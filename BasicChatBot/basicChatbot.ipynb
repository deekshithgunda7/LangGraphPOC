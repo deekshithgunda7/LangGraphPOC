{
 "cells": [
  {
   "cell_type": "markdown",
   "id": "c93325a2",
   "metadata": {},
   "source": [
    "## Build a Basic ChatBot using LangGraph GraphAPI"
   ]
  },
  {
   "cell_type": "code",
   "execution_count": null,
   "id": "5443d42f",
   "metadata": {},
   "outputs": [],
   "source": [
    "1+!"
   ]
  },
  {
   "cell_type": "code",
   "execution_count": null,
   "id": "1c79d09a",
   "metadata": {},
   "outputs": [],
   "source": [
    "1+1"
   ]
  },
  {
   "cell_type": "code",
   "execution_count": null,
   "id": "07f79dbb",
   "metadata": {},
   "outputs": [],
   "source": []
  }
 ],
 "metadata": {
  "kernelspec": {
   "display_name": "LangGraphPOC",
   "language": "python",
   "name": "python3"
  },
  "language_info": {
   "codemirror_mode": {
    "name": "ipython",
    "version": 3
   },
   "file_extension": ".py",
   "mimetype": "text/x-python",
   "name": "python",
   "nbconvert_exporter": "python",
   "pygments_lexer": "ipython3",
   "version": "3.13.3"
  }
 },
 "nbformat": 4,
 "nbformat_minor": 5
}
