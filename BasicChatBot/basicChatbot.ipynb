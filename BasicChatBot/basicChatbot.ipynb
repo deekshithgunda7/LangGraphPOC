{
 "cells": [
  {
   "cell_type": "markdown",
   "id": "c93325a2",
   "metadata": {},
   "source": [
    "## Build a Basic ChatBot using LangGraph GraphAPI"
   ]
  },
  {
   "cell_type": "code",
   "execution_count": 1,
   "id": "07f79dbb",
   "metadata": {},
   "outputs": [],
   "source": [
    "from typing import Annotated\n",
    "\n",
    "from typing_extensions import TypedDict\n",
    "\n",
    "from langgraph.graph import StateGraph,START,END\n",
    "\n",
    "from langgraph.graph.message import add_messages"
   ]
  },
  {
   "cell_type": "code",
   "execution_count": 2,
   "id": "059c57fc",
   "metadata": {},
   "outputs": [],
   "source": [
    "class State(TypedDict):\n",
    "\n",
    "    # messages have the  type lst.The add_messages function \n",
    "    # in the annotation how this state key should be updated\n",
    "    messages:Annotated[list,add_messages]\n",
    "\n",
    "graph_builder=StateGraph(State)"
   ]
  },
  {
   "cell_type": "code",
   "execution_count": 3,
   "id": "840ae5a5",
   "metadata": {},
   "outputs": [
    {
     "data": {
      "text/plain": [
       "<langgraph.graph.state.StateGraph at 0x128fe383b60>"
      ]
     },
     "execution_count": 3,
     "metadata": {},
     "output_type": "execute_result"
    }
   ],
   "source": [
    "graph_builder"
   ]
  },
  {
   "cell_type": "code",
   "execution_count": 4,
   "id": "1fa8e4e0",
   "metadata": {},
   "outputs": [
    {
     "data": {
      "text/plain": [
       "True"
      ]
     },
     "execution_count": 4,
     "metadata": {},
     "output_type": "execute_result"
    }
   ],
   "source": [
    "import os\n",
    "from dotenv import load_dotenv\n",
    "\n",
    "load_dotenv()\n",
    "\n",
    "#load data\n"
   ]
  },
  {
   "cell_type": "code",
   "execution_count": 5,
   "id": "f309799f",
   "metadata": {},
   "outputs": [],
   "source": [
    "# Define LLM\n",
    "from langchain_groq import ChatGroq\n",
    "from langchain.chat_models import init_chat_model\n",
    "\n",
    "\n",
    "#initilize LLM\n",
    "llm=ChatGroq(model=\"llama-3.1-8b-instant\")"
   ]
  },
  {
   "cell_type": "code",
   "execution_count": 6,
   "id": "af42f68c",
   "metadata": {},
   "outputs": [
    {
     "data": {
      "text/plain": [
       "ChatGroq(client=<groq.resources.chat.completions.Completions object at 0x00000128FE8C27B0>, async_client=<groq.resources.chat.completions.AsyncCompletions object at 0x00000128FE8C3380>, model_name='llama-3.1-8b-instant', model_kwargs={}, groq_api_key=SecretStr('**********'))"
      ]
     },
     "execution_count": 6,
     "metadata": {},
     "output_type": "execute_result"
    }
   ],
   "source": [
    "llm"
   ]
  },
  {
   "cell_type": "code",
   "execution_count": 7,
   "id": "1ccfd3fb",
   "metadata": {},
   "outputs": [
    {
     "data": {
      "text/plain": [
       "ChatGroq(client=<groq.resources.chat.completions.Completions object at 0x00000128FEA38050>, async_client=<groq.resources.chat.completions.AsyncCompletions object at 0x00000128FEA38A50>, model_name='llama-3.1-8b-instant', model_kwargs={}, groq_api_key=SecretStr('**********'))"
      ]
     },
     "execution_count": 7,
     "metadata": {},
     "output_type": "execute_result"
    }
   ],
   "source": [
    "llm=init_chat_model(\"groq:llama-3.1-8b-instant\")\n",
    "llm"
   ]
  },
  {
   "cell_type": "code",
   "execution_count": 8,
   "id": "343984e5",
   "metadata": {},
   "outputs": [],
   "source": [
    "# Node Functionality\n",
    "\n",
    "def chatbot(state:State):\n",
    "    return {\"messages\":[llm.invoke(state[\"messages\"])]}"
   ]
  },
  {
   "cell_type": "code",
   "execution_count": 9,
   "id": "d8cf488d",
   "metadata": {},
   "outputs": [],
   "source": [
    "graph_builder=StateGraph(State)\n",
    "\n",
    "#Adding Node\n",
    "graph_builder.add_node(\"llmchatbot\",chatbot)\n",
    "\n",
    "# Add Edges\n",
    "graph_builder.add_edge(START,\"llmchatbot\")\n",
    "graph_builder.add_edge(\"llmchatbot\",END)\n",
    "\n",
    "# compile the graph\n",
    "\n",
    "graph = graph_builder.compile()"
   ]
  },
  {
   "cell_type": "code",
   "execution_count": 10,
   "id": "f486aef2",
   "metadata": {},
   "outputs": [
    {
     "data": {
      "image/png": "[encoded data removed]",
      "text/plain": [
       "<langgraph.graph.state.CompiledStateGraph object at 0x00000128FE8C34D0>"
      ]
     },
     "execution_count": 10,
     "metadata": {},
     "output_type": "execute_result"
    }
   ],
   "source": [
    "graph"
   ]
  },
  {
   "cell_type": "code",
   "execution_count": 11,
   "id": "7d9cd6d3",
   "metadata": {},
   "outputs": [],
   "source": [
    "response=graph.invoke({\"messages\":\"Hi\"})"
   ]
  },
  {
   "cell_type": "code",
   "execution_count": 12,
   "id": "86be9808",
   "metadata": {},
   "outputs": [
    {
     "data": {
      "text/plain": [
       "[HumanMessage(content='Hi', additional_kwargs={}, response_metadata={}, id='5ac52279-212c-4a0b-973c-969792943d90'),\n",
       " AIMessage(content=\"It's nice to meet you. Is there something I can help you with or would you like to chat?\", additional_kwargs={}, response_metadata={'token_usage': {'completion_tokens': 23, 'prompt_tokens': 36, 'total_tokens': 59, 'completion_time': 0.02259152, 'prompt_time': 0.001900877, 'queue_time': 0.188027393, 'total_time': 0.024492397}, 'model_name': 'llama-3.1-8b-instant', 'system_fingerprint': 'fp_3ddc9808b3', 'service_tier': 'on_demand', 'finish_reason': 'stop', 'logprobs': None}, id='run--8ba99eff-106a-4bd2-92cc-2c455d8cda9b-0', usage_metadata={'input_tokens': 36, 'output_tokens': 23, 'total_tokens': 59})]"
      ]
     },
     "execution_count": 12,
     "metadata": {},
     "output_type": "execute_result"
    }
   ],
   "source": [
    "response[\"messages\"]"
   ]
  },
  {
   "cell_type": "code",
   "execution_count": 13,
   "id": "79dd21ce",
   "metadata": {},
   "outputs": [
    {
     "data": {
      "text/plain": [
       "\"It's nice to meet you. Is there something I can help you with or would you like to chat?\""
      ]
     },
     "execution_count": 13,
     "metadata": {},
     "output_type": "execute_result"
    }
   ],
   "source": [
    "response[\"messages\"][-1].content"
   ]
  },
  {
   "cell_type": "code",
   "execution_count": 14,
   "id": "d65645dc",
   "metadata": {},
   "outputs": [
    {
     "name": "stdout",
     "output_type": "stream",
     "text": [
      "I'm just a language model, I don't have emotions or feelings like humans do, but I'm functioning properly and ready to help with any questions or tasks you have. How can I assist you today?\n"
     ]
    }
   ],
   "source": [
    "for event in graph.stream({\"messages\":\"Hi , How are you ?\"}):\n",
    "    for value in event.values():\n",
    "        print(value[\"messages\"][-1].content)"
   ]
  },
  {
   "cell_type": "markdown",
   "id": "f315408f",
   "metadata": {},
   "source": [
    "ChatBot with Tools"
   ]
  },
  {
   "cell_type": "code",
   "execution_count": 15,
   "id": "1a4f3b87",
   "metadata": {},
   "outputs": [
    {
     "data": {
      "text/plain": [
       "{'query': 'what is langGraph',\n",
       " 'follow_up_questions': None,\n",
       " 'answer': None,\n",
       " 'images': [],\n",
       " 'results': [{'url': 'https://www.ibm.com/think/topics/langgraph#:~:text=LangGraph, created by LangChain, is,a scalable and efficient manner.',\n",
       "   'title': 'What is LangGraph? - IBM',\n",
       "   'content': 'LangGraph, created by LangChain, is an open source AI agent framework designed to build, deploy and manage complex generative AI agent workflows. At its core, LangGraph uses the power of graph-based architectures to model and manage the intricate relationships between various components of an AI agent workflow. LangGraph illuminates the processes within an AI workflow, allowing full transparency of the agent’s state. By combining these technologies with a set of APIs and tools, LangGraph provides users with a versatile platform for developing AI solutions and workflows including chatbots, state graphs and other agent-based systems. **Nodes**: In LangGraph, nodes represent individual components or agents within an AI workflow. LangGraph uses enhanced decision-making by modeling complex relationships between nodes, which means it uses AI agents to analyze their past actions and feedback.',\n",
       "   'score': 0.98509,\n",
       "   'raw_content': None},\n",
       "  {'url': 'https://www.langchain.com/langgraph',\n",
       "   'title': 'LangGraph',\n",
       "   'content': \"Design agent-driven user experiences with LangGraph Platform's APIs. Quickly deploy and scale your application with infrastructure built for agents. LangGraph sets the foundation for how we can build and scale AI workloads — from conversational agents, complex task automation, to custom LLM-backed experiences that 'just work'. The next chapter in building complex production-ready features with LLMs is agentic, and with LangGraph and LangSmith, LangChain delivers an out-of-the-box solution to iterate quickly, debug immediately, and scale effortlessly.” LangGraph sets the foundation for how we can build and scale AI workloads — from conversational agents, complex task automation, to custom LLM-backed experiences that 'just work'. LangGraph Platform is a service for deploying and scaling LangGraph applications, with an opinionated API for building agent UXs, plus an integrated developer studio.\",\n",
       "   'score': 0.98232,\n",
       "   'raw_content': None}],\n",
       " 'response_time': 4.48,\n",
       " 'request_id': 'a639dadf-aebf-4afd-8301-43981e2d7617'}"
      ]
     },
     "execution_count": 15,
     "metadata": {},
     "output_type": "execute_result"
    }
   ],
   "source": [
    "from langchain_tavily import TavilySearch\n",
    "\n",
    "tool = TavilySearch(max_results=2)\n",
    "# ans = tool.invoke(\"what is langGraph\")\n",
    "tool.invoke(\"what is langGraph\")"
   ]
  },
  {
   "cell_type": "code",
   "execution_count": null,
   "id": "49b533c7",
   "metadata": {},
   "outputs": [
    {
     "data": {
      "text/plain": [
       "'* LangGraph is a library built on top of Langchain that is designed to facilitate the creation of cyclic graphs for large language model (LLM) – based AI agents. * Langgraph introduces a chat agent executor that represents the agent state as a list of messages, which is particularly useful for newer, chat-based models. The agent executor class in the Langchain framework was the main tool for building and executing AI agents before LangGraph. Large Language Models (LLMs) are the foundation for designing sophisticated AI agents, and LangGraph, built on top of Langchain, is intended to make the process of creating cyclic graphs easier. Ans. LangGraph addresses the limitations of previous AI agent development frameworks by providing more flexibility, better state management, and support for cyclic execution and multi-agent systems.'"
      ]
     },
     "execution_count": 29,
     "metadata": {},
     "output_type": "execute_result"
    }
   ],
   "source": [
    "# ans[\"results\"][-1][\"content\"]"
   ]
  },
  {
   "cell_type": "code",
   "execution_count": 16,
   "id": "b4cd7285",
   "metadata": {},
   "outputs": [],
   "source": [
    "## Define custom function\n",
    "\n",
    "def multiply(a:int,b:int)->int:\n",
    "\n",
    "    \"\"\"Multiply a and b\n",
    "\n",
    "    Args:\n",
    "        a (int) : first int\n",
    "        b (int) : second int\n",
    "\n",
    "    Returns:\n",
    "        int : output int   \n",
    "    \"\"\"\n",
    "\n",
    "    return a*b"
   ]
  },
  {
   "cell_type": "code",
   "execution_count": 17,
   "id": "8da6cc46",
   "metadata": {},
   "outputs": [],
   "source": [
    "tools=[tool,multiply]"
   ]
  },
  {
   "cell_type": "code",
   "execution_count": 18,
   "id": "0a3fac30",
   "metadata": {},
   "outputs": [],
   "source": [
    "llm_with_tool=llm.bind_tools(tools)"
   ]
  },
  {
   "cell_type": "code",
   "execution_count": 19,
   "id": "cbbc148f",
   "metadata": {},
   "outputs": [
    {
     "data": {
      "text/plain": [
       "RunnableBinding(bound=ChatGroq(client=<groq.resources.chat.completions.Completions object at 0x00000128FEA38050>, async_client=<groq.resources.chat.completions.AsyncCompletions object at 0x00000128FEA38A50>, model_name='llama-3.1-8b-instant', model_kwargs={}, groq_api_key=SecretStr('**********')), kwargs={'tools': [{'type': 'function', 'function': {'name': 'tavily_search', 'description': 'A search engine optimized for comprehensive, accurate, and trusted results. Useful for when you need to answer questions about current events. It not only retrieves URLs and snippets, but offers advanced search depths, domain management, time range filters, and image search, this tool delivers real-time, accurate, and citation-backed results.Input should be a search query.', 'parameters': {'properties': {'query': {'description': 'Search query to look up', 'type': 'string'}, 'include_domains': {'anyOf': [{'items': {'type': 'string'}, 'type': 'array'}, {'type': 'null'}], 'default': [], 'description': 'A list of domains to restrict search results to.\\n\\n        Use this parameter when:\\n        1. The user explicitly requests information from specific websites (e.g., \"Find climate data from nasa.gov\")\\n        2. The user mentions an organization or company without specifying the domain (e.g., \"Find information about iPhones from Apple\")\\n\\n        In both cases, you should determine the appropriate domains (e.g., [\"nasa.gov\"] or [\"apple.com\"]) and set this parameter.\\n\\n        Results will ONLY come from the specified domains - no other sources will be included.\\n        Default is None (no domain restriction).\\n        '}, 'exclude_domains': {'anyOf': [{'items': {'type': 'string'}, 'type': 'array'}, {'type': 'null'}], 'default': [], 'description': 'A list of domains to exclude from search results.\\n\\n        Use this parameter when:\\n        1. The user explicitly requests to avoid certain websites (e.g., \"Find information about climate change but not from twitter.com\")\\n        2. The user mentions not wanting results from specific organizations without naming the domain (e.g., \"Find phone reviews but nothing from Apple\")\\n\\n        In both cases, you should determine the appropriate domains to exclude (e.g., [\"twitter.com\"] or [\"apple.com\"]) and set this parameter.\\n\\n        Results will filter out all content from the specified domains.\\n        Default is None (no domain exclusion).\\n        '}, 'search_depth': {'anyOf': [{'enum': ['basic', 'advanced'], 'type': 'string'}, {'type': 'null'}], 'default': 'basic', 'description': 'Controls search thoroughness and result comprehensiveness.\\n    \\n        Use \"basic\" for simple queries requiring quick, straightforward answers.\\n        \\n        Use \"advanced\" (default) for complex queries, specialized topics, \\n        rare information, or when in-depth analysis is needed.\\n        '}, 'include_images': {'anyOf': [{'type': 'boolean'}, {'type': 'null'}], 'default': False, 'description': 'Determines if the search returns relevant images along with text results.\\n   \\n        Set to True when the user explicitly requests visuals or when images would \\n        significantly enhance understanding (e.g., \"Show me what black holes look like,\" \\n        \"Find pictures of Renaissance art\").\\n        \\n        Leave as False (default) for most informational queries where text is sufficient.\\n        '}, 'time_range': {'anyOf': [{'enum': ['day', 'week', 'month', 'year'], 'type': 'string'}, {'type': 'null'}], 'default': None, 'description': 'Limits results to content published within a specific timeframe.\\n        \\n        ONLY set this when the user explicitly mentions a time period \\n        (e.g., \"latest AI news,\" \"articles from last week\").\\n        \\n        For less popular or niche topics, use broader time ranges \\n        (\"month\" or \"year\") to ensure sufficient relevant results.\\n   \\n        Options: \"day\" (24h), \"week\" (7d), \"month\" (30d), \"year\" (365d).\\n        \\n        Default is None.\\n        '}, 'topic': {'anyOf': [{'enum': ['general', 'news', 'finance'], 'type': 'string'}, {'type': 'null'}], 'default': 'general', 'description': 'Specifies search category for optimized results.\\n   \\n        Use \"general\" (default) for most queries, INCLUDING those with terms like \\n        \"latest,\" \"newest,\" or \"recent\" when referring to general information.\\n\\n        Use \"finance\" for markets, investments, economic data, or financial news.\\n\\n        Use \"news\" ONLY for politics, sports, or major current events covered by \\n        mainstream media - NOT simply because a query asks for \"new\" information.\\n        '}, 'include_favicon': {'anyOf': [{'type': 'boolean'}, {'type': 'null'}], 'default': False, 'description': \"Determines whether to include favicon URLs for each search result.\\n        \\n        When enabled, each search result will include the website's favicon URL,\\n        which can be useful for:\\n        - Building rich UI interfaces with visual website indicators\\n        - Providing visual cues about the source's credibility or brand\\n        - Creating bookmark-like displays with recognizable site icons\\n        \\n        Set to True when creating user interfaces that benefit from visual branding\\n        or when favicon information enhances the user experience.\\n        \\n        Default is False to minimize response size and API usage.\\n        \"}, 'start_date': {'anyOf': [{'type': 'string'}, {'type': 'null'}], 'default': None, 'description': 'Filters search results to include only content published on or after this date.\\n        \\n        Use this parameter when you need to:\\n        - Find recent developments or updates on a topic\\n        - Exclude outdated information from search results\\n        - Focus on content within a specific timeframe\\n        - Combine with end_date to create a custom date range\\n        \\n        Format must be YYYY-MM-DD (e.g., \"2024-01-15\" for January 15, 2024).\\n        \\n        Examples:\\n        - \"2024-01-01\" - Results from January 1, 2024 onwards\\n        - \"2023-12-25\" - Results from December 25, 2023 onwards\\n        \\n        When combined with end_date, creates a precise date range filter.\\n        \\n        Default is None (no start date restriction).\\n        '}, 'end_date': {'anyOf': [{'type': 'string'}, {'type': 'null'}], 'default': None, 'description': 'Filters search results to include only content published on or before this date.\\n        \\n        Use this parameter when you need to:\\n        - Exclude content published after a certain date\\n        - Study historical information or past events\\n        - Research how topics were covered during specific time periods\\n        - Combine with start_date to create a custom date range\\n        \\n        Format must be YYYY-MM-DD (e.g., \"2024-03-31\" for March 31, 2024).\\n        \\n        Examples:\\n        - \"2024-03-31\" - Results up to and including March 31, 2024\\n        - \"2023-12-31\" - Results up to and including December 31, 2023\\n        \\n        When combined with start_date, creates a precise date range filter.\\n        For example: start_date=\"2024-01-01\", end_date=\"2024-03-31\" \\n        returns results from Q1 2024 only.\\n        \\n        Default is None (no end date restriction).\\n        '}}, 'required': ['query'], 'type': 'object'}}}, {'type': 'function', 'function': {'name': 'multiply', 'description': 'Multiply a and b', 'parameters': {'properties': {'a': {'description': 'first int', 'type': 'integer'}, 'b': {'description': 'second int', 'type': 'integer'}}, 'required': ['a', 'b'], 'type': 'object'}}}]}, config={}, config_factories=[])"
      ]
     },
     "execution_count": 19,
     "metadata": {},
     "output_type": "execute_result"
    }
   ],
   "source": [
    "llm_with_tool"
   ]
  },
  {
   "cell_type": "code",
   "execution_count": 20,
   "id": "89a7272b",
   "metadata": {},
   "outputs": [],
   "source": [
    "## Build entire State Graph\n",
    "\n",
    "from langgraph.graph import StateGraph,START,END\n",
    "from langgraph.prebuilt import ToolNode\n",
    "from langgraph.prebuilt import tools_condition\n",
    "\n",
    "## Node Defination\n",
    "\n",
    "def tool_calling_llm(state:State):\n",
    "    return {\"messages\":[llm_with_tool.invoke(state[\"messages\"])]}\n",
    "\n",
    "## Graph\n",
    "\n",
    "builder= StateGraph(State)\n",
    "builder.add_node(\"tool_calling_llm\",tool_calling_llm)\n",
    "builder.add_node(\"tools\",ToolNode(tools))\n",
    "\n",
    "## Add Edge\n",
    "\n",
    "builder.add_edge(START,\"tool_calling_llm\")\n",
    "builder.add_conditional_edges(\n",
    "    \"tool_calling_llm\",\n",
    "    tools_condition\n",
    ")\n",
    "builder.add_edge(\"tools\",END)\n",
    "\n",
    "\n",
    "## Compile the graph\n",
    "\n",
    "graph = builder.compile()\n",
    "\n",
    "\n",
    "# from IPython.display import Image,display\n",
    "# display(Image(graph.get_graph().draw_mermaid_png()))"
   ]
  },
  {
   "cell_type": "code",
   "execution_count": 21,
   "id": "7f836116",
   "metadata": {},
   "outputs": [],
   "source": [
    "response = graph.invoke({\"messages\":\"What is recent H1B news\"})"
   ]
  },
  {
   "cell_type": "code",
   "execution_count": 22,
   "id": "405f6f1f",
   "metadata": {},
   "outputs": [
    {
     "data": {
      "text/plain": [
       "'{\"query\": \"Recent H1B news\", \"follow_up_questions\": null, \"answer\": null, \"images\": [], \"results\": [{\"url\": \"https://time.com/7319507/h1b-trump-tech-innovation-ai/\", \"title\": \"How Trump’s H-1B Reform Could Harm American Tech Innovation - Time Magazine\", \"score\": 0.6439794, \"published_date\": \"Tue, 23 Sep 2025 13:50:34 GMT\", \"content\": \"President Trump sent shockwaves through the tech industry over the weekend by announcing a $100,000 payment for new employer-filed H-1B visa applications submitted after September 21, 2025. The idea that the H-1B visa program has on net taken jobs from U.S. workers is “empirically opposite to the truth,” says Giovanni Peri, an economics professor at the University of California, Davis. The new H-1B fee will “hurt the innovation and competitiveness of the U.S. industry,” says Subodha Kumar, a professor at the Fox School of Business at Temple University. Many more Indian tech workers may go to other countries abroad with flourishing industries, like the U.K. According to Zavodny, research shows that when large companies are unable to hire employees on an H-1B, they end up offshoring the work instead.\", \"raw_content\": null}, {\"url\": \"https://leehamnews.com/2025/09/23/little-impact-seen-on-boeing-by-trumps-new-h1b-visa-policy/\", \"title\": \"Little impact seen on Boeing by Trump’s new H1B visa policy - Leeham News and Analysis\", \"score\": 0.6383174, \"published_date\": \"Tue, 23 Sep 2025 23:37:40 GMT\", \"content\": \"23, 2025, © Leeham News:** President Trump’s announcement last Friday that there will be a $100,000 fee on new applications for H1B business visas doesn’t appear to have much effect on Boeing. *LNA* understands that Boeing rotates H1B workers back to their home country before the two-year period is up and brings in new workers, thereby avoiding the unionization of these workers. + From the article:“LNA understands that Boeing rotates H1B workers back to their home country before the two-year period is up and brings in new workers, thereby avoiding the unionization of these workers.” “LNA understands that Boeing rotates H1B workers back to their home country before the two-year period is up and brings in new workers, thereby avoiding the unionization of these workers.”\", \"raw_content\": null}], \"response_time\": 0.38, \"request_id\": \"a4fe8383-ace5-4bcb-830e-a3ef6296b57b\"}'"
      ]
     },
     "execution_count": 22,
     "metadata": {},
     "output_type": "execute_result"
    }
   ],
   "source": [
    "response['messages'][-1].content"
   ]
  },
  {
   "cell_type": "code",
   "execution_count": 38,
   "id": "8d145862",
   "metadata": {},
   "outputs": [
    {
     "name": "stdout",
     "output_type": "stream",
     "text": [
      "================================\u001b[1m Human Message \u001b[0m=================================\n",
      "\n",
      "What is recent H1B news\n",
      "==================================\u001b[1m Ai Message \u001b[0m==================================\n",
      "Tool Calls:\n",
      "  tavily_search (kpp3ryyd9)\n",
      " Call ID: kpp3ryyd9\n",
      "  Args:\n",
      "    query: H1B news\n",
      "    time_range: month\n",
      "    topic: news\n",
      "=================================\u001b[1m Tool Message \u001b[0m=================================\n",
      "Name: tavily_search\n",
      "\n",
      "{\"query\": \"H1B news\", \"follow_up_questions\": null, \"answer\": null, \"images\": [], \"results\": [{\"url\": \"https://www.devdiscourse.com/article/headlines/3634541-implications-of-h-1b-visa-changes-on-south-korean-workforce\", \"title\": \"Implications of H-1B Visa Changes on South Korean Workforce - Devdiscourse\", \"score\": 0.7316155, \"published_date\": \"Sat, 20 Sep 2025 09:18:43 GMT\", \"content\": \"+ NEWS * NEWS * News # Implications of H-1B Visa Changes on South Korean Workforce ## South Korea will evaluate the effects of the U.S. H-1B visa changes on its companies and workers. The South Korean foreign ministry has announced an assessment of the recent changes to the U.S. H-1B visa program and their potential impact on South Korean enterprises and professionals aspiring to work in the United States. On Friday, the Trump administration revealed a proposal requiring companies to pay a $100,000 annual fee for each H-1B worker visa. * H-1B Visa #### US H-1B Visa Fee Surge Threatens India's Tech Sector India * Technology News\", \"raw_content\": null}, {\"url\": \"https://timesofindia.indiatimes.com/world/us/trumps-100000-pay-to-play-h-1b-visa-rule-sparks-outcry-immigration-attorneys-gear-up-to-file-suits/articleshow/124014488.cms\", \"title\": \"Trump’s $100,000 ‘Pay-to-Play’ H-1B visa rule sparks outcry, immigration attorneys gear up to file suits - The Times of India\", \"score\": 0.64746445, \"published_date\": \"Sat, 20 Sep 2025 10:56:00 GMT\", \"content\": \"President Donald Trump has signed a sweeping proclamation restricting the entry of H-1B visa holders unless their employers pay a supplemental $100,000 fee per worker, triggering alarm across the immigration and business community and setting the stage for immediate legal challenges.The proclamation takes effect September 21, 2025 and applies to any H-1B entering the US after 12:01am Eastern Daylight Time (EDT). GST rate cut impact: Amul lowers prices of range of items; ghee cheaper by Rs 40 - check listChina Masters: Indian badminton stars Satwiksairaj Rankireddy, Chirag Shetty sail into finalFemale cheetah explores new home at Gandhi Sagar SanctuaryWomen enetrepreneurs from Chandigarh prove their worthPunjab and Sind Bank recruitment 2025: Apply online for MMGS-II posts at punjabandsind.bank.in'Humanitarian consequences': India reacts to US H-1B visa fee hike; maps way forwardTrump H-1B Visa Hike: Why UAE, Saudi, Qatar might be better options for Indians looking to go abroadLibra, Weekly Horoscope, September 21 to September 27, 2025: Avoid big investments or risky venturesViral: Indian comedian Vir Das reacts to Trump's revised H1B visa fee\", \"raw_content\": null}], \"response_time\": 0.58, \"request_id\": \"7fbfbf39-9ca9-4013-b320-b7da386921ed\"}\n"
     ]
    }
   ],
   "source": [
    "for m in response['messages']:\n",
    "    m.pretty_print()"
   ]
  },
  {
   "cell_type": "code",
   "execution_count": 26,
   "id": "26888127",
   "metadata": {},
   "outputs": [],
   "source": [
    "response=graph.invoke({\"messages\":\" What is recent H1B news and what is 2 multiply by  3\"})"
   ]
  },
  {
   "cell_type": "code",
   "execution_count": 27,
   "id": "02d1e6a5",
   "metadata": {},
   "outputs": [
    {
     "name": "stdout",
     "output_type": "stream",
     "text": [
      "================================\u001b[1m Human Message \u001b[0m=================================\n",
      "\n",
      " What is recent H1B news and what is 2 multiply by  3\n",
      "==================================\u001b[1m Ai Message \u001b[0m==================================\n",
      "Tool Calls:\n",
      "  tavily_search (298r82rka)\n",
      " Call ID: 298r82rka\n",
      "  Args:\n",
      "    query: recent H1B news\n",
      "    search_depth: advanced\n",
      "    topic: news\n",
      "  multiply (rtddm6yqy)\n",
      " Call ID: rtddm6yqy\n",
      "  Args:\n",
      "    a: 2\n",
      "    b: 3\n",
      "=================================\u001b[1m Tool Message \u001b[0m=================================\n",
      "Name: tavily_search\n",
      "\n",
      "{\"query\": \"recent H1B news\", \"follow_up_questions\": null, \"answer\": null, \"images\": [], \"results\": [{\"url\": \"https://www.usatoday.com/story/news/politics/2025/09/24/panic-lingers-trump-h1b-visa-restrictions/86293759007/\", \"title\": \"Trump's new visa restrictions create chaos for white-collar immigrants - USA Today\", \"score\": 0.776708, \"published_date\": \"Wed, 24 Sep 2025 09:12:19 GMT\", \"content\": \"The H-1B program has swelled since 2000. U.S. Citizenship and Immigration Services approved nearly 400,000 H-1B petitions or renewals for high-skilled foreign workers in fiscal 2024, almost doubling the number approved in 2000, according to a USA TODAY analysis of the data.\\n\\nThe total number of H-1B approvals peaked in 2022, topping 440,000. It was at its lowest in recent history, around 200,000 approvals, in 2010, right after the Great Recession. [...] The program was famously at the center of a split among Trump supporters late last year, when billionaire tech mogul Elon Musk – a South African native who once lived in the United States on an H-1B – publicly broke with MAGA supporters over their disdain of the foreign-worker program.\\n\\nThe U.S. government issues some 85,000 new H-1Bs every year, and renews hundreds of thousands more existing H-1Bs annually.\\n\\nPan, who has a Master's in computer science, assumed the worst-case scenario. [...] On Friday, Sept. 19, Trump unveiled the new restrictions on foreigners who hold H-1B visas that allow people with higher education or special skills to work legally in the United States. The president's proclamation sent hundreds of thousands of working professionals, their employers and immigration attorneys into a tailspin.\", \"raw_content\": null}, {\"url\": \"https://www.ndtv.com/world-news/trump-administration-proposes-to-scrap-h-1b-lottery-system-floats-new-rules-9330915\", \"title\": \"Trump Administration Proposes To Scrap H-1B Lottery System, Floats New Rules - NDTV\", \"score\": 0.72325134, \"published_date\": \"Tue, 23 Sep 2025 18:01:10 GMT\", \"content\": \"Edited by:  Anushree Jonko\\n World News\\n Sep 23, 2025 23:31 pm IST\\n\\n  + Published On Sep 23, 2025 21:54 pm IST\\n  + Last Updated On Sep 23, 2025 23:31 pm IST\\n\\nRead Time: 3 mins\\n\\nShare\\n\\n Twitter\\n WhatsApp\\n Facebook\\n Reddit\\n Email\\n\\nThe United States has proposed to amend the regulations of the H-1B visa programme [...] The United States has proposed to amend the regulations of the H-1B visa programme just days after President Donald Trump signed a proclamation to curtail it.\\n\\nThe new proposal by the Department of Homeland Security seeks to scrap the existential lottery system and implement \\\"a weighted selection process that would generally favour the allocation of H-1B visas to higher-skilled and higher-paid aliens, while maintaining the opportunity for employers to secure H-1B workers at all wage levels\\\". [...] She explained, \\\"If this rule goes into effect, the H-1B lottery will no longer be purely random. Instead, each applicant's odds will be weighted by salary level. A candidate in a top wage tier could receive multiple entries in the lottery, while someone at an entry-level salary may only get one. That means higher-paid, senior roles will have significantly better chances of selection, while recent graduates and early-career workers will face much steeper odds.\\\"\", \"raw_content\": null}], \"response_time\": 1.22, \"request_id\": \"d2ddd549-e729-47f5-b787-99263c1065ef\"}\n",
      "=================================\u001b[1m Tool Message \u001b[0m=================================\n",
      "Name: multiply\n",
      "\n",
      "6\n",
      "==================================\u001b[1m Ai Message \u001b[0m==================================\n",
      "Tool Calls:\n",
      "  multiply (tyh6j50ew)\n",
      " Call ID: tyh6j50ew\n",
      "  Args:\n",
      "    a: 2\n",
      "    b: 3\n",
      "=================================\u001b[1m Tool Message \u001b[0m=================================\n",
      "Name: multiply\n",
      "\n",
      "6\n",
      "==================================\u001b[1m Ai Message \u001b[0m==================================\n",
      "\n",
      "The result of the multiplication of 2 and 3 is 6.\n"
     ]
    }
   ],
   "source": [
    "for m in response['messages']:\n",
    "    m.pretty_print()"
   ]
  },
  {
   "cell_type": "code",
   "execution_count": 25,
   "id": "3df27636",
   "metadata": {},
   "outputs": [],
   "source": [
    "from langgraph.graph import StateGraph,START,END\n",
    "from langgraph.prebuilt import ToolNode\n",
    "from langgraph.prebuilt import tools_condition\n",
    "\n",
    "## Node Defination\n",
    "\n",
    "def tool_calling_llm(state:State):\n",
    "    return {\"messages\":[llm_with_tool.invoke(state[\"messages\"])]}\n",
    "\n",
    "## Graph\n",
    "\n",
    "builder= StateGraph(State)\n",
    "builder.add_node(\"tool_calling_llm\",tool_calling_llm)\n",
    "builder.add_node(\"tools\",ToolNode(tools))\n",
    "\n",
    "## Add Edge\n",
    "\n",
    "builder.add_edge(START,\"tool_calling_llm\")\n",
    "builder.add_conditional_edges(\n",
    "    \"tool_calling_llm\",\n",
    "    tools_condition\n",
    ")\n",
    "builder.add_edge(\"tools\",\"tool_calling_llm\")\n",
    "\n",
    "graph = builder.compile()\n",
    "\n"
   ]
  },
  {
   "cell_type": "code",
   "execution_count": 28,
   "id": "fcb288a7",
   "metadata": {},
   "outputs": [
    {
     "data": {
      "image/png": "[encoded data removed]",
      "text/plain": [
       "<langgraph.graph.state.CompiledStateGraph object at 0x00000128FFE7C7D0>"
      ]
     },
     "execution_count": 28,
     "metadata": {},
     "output_type": "execute_result"
    }
   ],
   "source": [
    "graph"
   ]
  },
  {
   "cell_type": "markdown",
   "id": "357e109f",
   "metadata": {},
   "source": [
    "ADDING MEMORY TO AGENTIC GRAPH"
   ]
  },
  {
   "cell_type": "code",
   "execution_count": 31,
   "id": "4ebc1d7b",
   "metadata": {},
   "outputs": [
    {
     "name": "stdout",
     "output_type": "stream",
     "text": [
      "================================\u001b[1m Human Message \u001b[0m=================================\n",
      "\n",
      " What is my name\n",
      "==================================\u001b[1m Ai Message \u001b[0m==================================\n",
      "\n",
      "I don't have any information about your name. If you'd like to provide it, I can store it for future reference.\n"
     ]
    }
   ],
   "source": [
    "response=graph.invoke({\"messages\":\" What is my name\"})\n",
    "\n",
    "for m in response['messages']:\n",
    "    m.pretty_print()\n"
   ]
  },
  {
   "cell_type": "code",
   "execution_count": 32,
   "id": "382ce9d8",
   "metadata": {},
   "outputs": [],
   "source": [
    "from langgraph.graph import StateGraph,START,END\n",
    "from langgraph.prebuilt import ToolNode\n",
    "from langgraph.prebuilt import tools_condition\n",
    "from langgraph.checkpoint.memory import MemorySaver\n",
    "\n",
    "memory = MemorySaver()\n",
    "\n",
    "## Node Defination\n",
    "\n",
    "def tool_calling_llm(state:State):\n",
    "    return {\"messages\":[llm_with_tool.invoke(state[\"messages\"])]}\n",
    "\n",
    "## Graph\n",
    "\n",
    "builder= StateGraph(State)\n",
    "builder.add_node(\"tool_calling_llm\",tool_calling_llm)\n",
    "builder.add_node(\"tools\",ToolNode(tools))\n",
    "\n",
    "## Add Edge\n",
    "\n",
    "builder.add_edge(START,\"tool_calling_llm\")\n",
    "builder.add_conditional_edges(\n",
    "    \"tool_calling_llm\",\n",
    "    tools_condition\n",
    ")\n",
    "builder.add_edge(\"tools\",\"tool_calling_llm\")\n",
    "\n",
    "graph = builder.compile(checkpointer=memory)"
   ]
  },
  {
   "cell_type": "code",
   "execution_count": 33,
   "id": "cabda799",
   "metadata": {},
   "outputs": [
    {
     "ename": "ValueError",
     "evalue": "Checkpointer requires one or more of the following 'configurable' keys: thread_id, checkpoint_ns, checkpoint_id",
     "output_type": "error",
     "traceback": [
      "\u001b[31m---------------------------------------------------------------------------\u001b[39m",
      "\u001b[31mValueError\u001b[39m                                Traceback (most recent call last)",
      "\u001b[36mCell\u001b[39m\u001b[36m \u001b[39m\u001b[32mIn[33]\u001b[39m\u001b[32m, line 1\u001b[39m\n\u001b[32m----> \u001b[39m\u001b[32m1\u001b[39m response=\u001b[43mgraph\u001b[49m\u001b[43m.\u001b[49m\u001b[43minvoke\u001b[49m\u001b[43m(\u001b[49m\u001b[43m{\u001b[49m\u001b[33;43m\"\u001b[39;49m\u001b[33;43mmessages\u001b[39;49m\u001b[33;43m\"\u001b[39;49m\u001b[43m:\u001b[49m\u001b[33;43m\"\u001b[39;49m\u001b[33;43m What is my name\u001b[39;49m\u001b[33;43m\"\u001b[39;49m\u001b[43m}\u001b[49m\u001b[43m)\u001b[49m\n\u001b[32m      3\u001b[39m \u001b[38;5;28;01mfor\u001b[39;00m m \u001b[38;5;129;01min\u001b[39;00m response[\u001b[33m'\u001b[39m\u001b[33mmessages\u001b[39m\u001b[33m'\u001b[39m]:\n\u001b[32m      4\u001b[39m     m.pretty_print()\n",
      "\u001b[36mFile \u001b[39m\u001b[32mc:\\Users\\deeks\\OneDrive\\Desktop\\Learning\\AI\\Langgraph\\LangGraphPOC\\.venv\\Lib\\site-packages\\langgraph\\pregel\\main.py:3026\u001b[39m, in \u001b[36mPregel.invoke\u001b[39m\u001b[34m(self, input, config, context, stream_mode, print_mode, output_keys, interrupt_before, interrupt_after, durability, **kwargs)\u001b[39m\n\u001b[32m   3023\u001b[39m chunks: \u001b[38;5;28mlist\u001b[39m[\u001b[38;5;28mdict\u001b[39m[\u001b[38;5;28mstr\u001b[39m, Any] | Any] = []\n\u001b[32m   3024\u001b[39m interrupts: \u001b[38;5;28mlist\u001b[39m[Interrupt] = []\n\u001b[32m-> \u001b[39m\u001b[32m3026\u001b[39m \u001b[43m\u001b[49m\u001b[38;5;28;43;01mfor\u001b[39;49;00m\u001b[43m \u001b[49m\u001b[43mchunk\u001b[49m\u001b[43m \u001b[49m\u001b[38;5;129;43;01min\u001b[39;49;00m\u001b[43m \u001b[49m\u001b[38;5;28;43mself\u001b[39;49m\u001b[43m.\u001b[49m\u001b[43mstream\u001b[49m\u001b[43m(\u001b[49m\n\u001b[32m   3027\u001b[39m \u001b[43m    \u001b[49m\u001b[38;5;28;43minput\u001b[39;49m\u001b[43m,\u001b[49m\n\u001b[32m   3028\u001b[39m \u001b[43m    \u001b[49m\u001b[43mconfig\u001b[49m\u001b[43m,\u001b[49m\n\u001b[32m   3029\u001b[39m \u001b[43m    \u001b[49m\u001b[43mcontext\u001b[49m\u001b[43m=\u001b[49m\u001b[43mcontext\u001b[49m\u001b[43m,\u001b[49m\n\u001b[32m   3030\u001b[39m \u001b[43m    \u001b[49m\u001b[43mstream_mode\u001b[49m\u001b[43m=\u001b[49m\u001b[43m[\u001b[49m\u001b[33;43m\"\u001b[39;49m\u001b[33;43mupdates\u001b[39;49m\u001b[33;43m\"\u001b[39;49m\u001b[43m,\u001b[49m\u001b[43m \u001b[49m\u001b[33;43m\"\u001b[39;49m\u001b[33;43mvalues\u001b[39;49m\u001b[33;43m\"\u001b[39;49m\u001b[43m]\u001b[49m\n\u001b[32m   3031\u001b[39m \u001b[43m    \u001b[49m\u001b[38;5;28;43;01mif\u001b[39;49;00m\u001b[43m \u001b[49m\u001b[43mstream_mode\u001b[49m\u001b[43m \u001b[49m\u001b[43m==\u001b[49m\u001b[43m \u001b[49m\u001b[33;43m\"\u001b[39;49m\u001b[33;43mvalues\u001b[39;49m\u001b[33;43m\"\u001b[39;49m\n\u001b[32m   3032\u001b[39m \u001b[43m    \u001b[49m\u001b[38;5;28;43;01melse\u001b[39;49;00m\u001b[43m \u001b[49m\u001b[43mstream_mode\u001b[49m\u001b[43m,\u001b[49m\n\u001b[32m   3033\u001b[39m \u001b[43m    \u001b[49m\u001b[43mprint_mode\u001b[49m\u001b[43m=\u001b[49m\u001b[43mprint_mode\u001b[49m\u001b[43m,\u001b[49m\n\u001b[32m   3034\u001b[39m \u001b[43m    \u001b[49m\u001b[43moutput_keys\u001b[49m\u001b[43m=\u001b[49m\u001b[43moutput_keys\u001b[49m\u001b[43m,\u001b[49m\n\u001b[32m   3035\u001b[39m \u001b[43m    \u001b[49m\u001b[43minterrupt_before\u001b[49m\u001b[43m=\u001b[49m\u001b[43minterrupt_before\u001b[49m\u001b[43m,\u001b[49m\n\u001b[32m   3036\u001b[39m \u001b[43m    \u001b[49m\u001b[43minterrupt_after\u001b[49m\u001b[43m=\u001b[49m\u001b[43minterrupt_after\u001b[49m\u001b[43m,\u001b[49m\n\u001b[32m   3037\u001b[39m \u001b[43m    \u001b[49m\u001b[43mdurability\u001b[49m\u001b[43m=\u001b[49m\u001b[43mdurability\u001b[49m\u001b[43m,\u001b[49m\n\u001b[32m   3038\u001b[39m \u001b[43m    \u001b[49m\u001b[43m*\u001b[49m\u001b[43m*\u001b[49m\u001b[43mkwargs\u001b[49m\u001b[43m,\u001b[49m\n\u001b[32m   3039\u001b[39m \u001b[43m\u001b[49m\u001b[43m)\u001b[49m\u001b[43m:\u001b[49m\n\u001b[32m   3040\u001b[39m \u001b[43m    \u001b[49m\u001b[38;5;28;43;01mif\u001b[39;49;00m\u001b[43m \u001b[49m\u001b[43mstream_mode\u001b[49m\u001b[43m \u001b[49m\u001b[43m==\u001b[49m\u001b[43m \u001b[49m\u001b[33;43m\"\u001b[39;49m\u001b[33;43mvalues\u001b[39;49m\u001b[33;43m\"\u001b[39;49m\u001b[43m:\u001b[49m\n\u001b[32m   3041\u001b[39m \u001b[43m        \u001b[49m\u001b[38;5;28;43;01mif\u001b[39;49;00m\u001b[43m \u001b[49m\u001b[38;5;28;43mlen\u001b[39;49m\u001b[43m(\u001b[49m\u001b[43mchunk\u001b[49m\u001b[43m)\u001b[49m\u001b[43m \u001b[49m\u001b[43m==\u001b[49m\u001b[43m \u001b[49m\u001b[32;43m2\u001b[39;49m\u001b[43m:\u001b[49m\n",
      "\u001b[36mFile \u001b[39m\u001b[32mc:\\Users\\deeks\\OneDrive\\Desktop\\Learning\\AI\\Langgraph\\LangGraphPOC\\.venv\\Lib\\site-packages\\langgraph\\pregel\\main.py:2518\u001b[39m, in \u001b[36mPregel.stream\u001b[39m\u001b[34m(self, input, config, context, stream_mode, print_mode, output_keys, interrupt_before, interrupt_after, durability, subgraphs, debug, **kwargs)\u001b[39m\n\u001b[32m   2501\u001b[39m run_manager = callback_manager.on_chain_start(\n\u001b[32m   2502\u001b[39m     \u001b[38;5;28;01mNone\u001b[39;00m,\n\u001b[32m   2503\u001b[39m     \u001b[38;5;28minput\u001b[39m,\n\u001b[32m   2504\u001b[39m     name=config.get(\u001b[33m\"\u001b[39m\u001b[33mrun_name\u001b[39m\u001b[33m\"\u001b[39m, \u001b[38;5;28mself\u001b[39m.get_name()),\n\u001b[32m   2505\u001b[39m     run_id=config.get(\u001b[33m\"\u001b[39m\u001b[33mrun_id\u001b[39m\u001b[33m\"\u001b[39m),\n\u001b[32m   2506\u001b[39m )\n\u001b[32m   2507\u001b[39m \u001b[38;5;28;01mtry\u001b[39;00m:\n\u001b[32m   2508\u001b[39m     \u001b[38;5;66;03m# assign defaults\u001b[39;00m\n\u001b[32m   2509\u001b[39m     (\n\u001b[32m   2510\u001b[39m         stream_modes,\n\u001b[32m   2511\u001b[39m         output_keys,\n\u001b[32m   2512\u001b[39m         interrupt_before_,\n\u001b[32m   2513\u001b[39m         interrupt_after_,\n\u001b[32m   2514\u001b[39m         checkpointer,\n\u001b[32m   2515\u001b[39m         store,\n\u001b[32m   2516\u001b[39m         cache,\n\u001b[32m   2517\u001b[39m         durability_,\n\u001b[32m-> \u001b[39m\u001b[32m2518\u001b[39m     ) = \u001b[38;5;28;43mself\u001b[39;49m\u001b[43m.\u001b[49m\u001b[43m_defaults\u001b[49m\u001b[43m(\u001b[49m\n\u001b[32m   2519\u001b[39m \u001b[43m        \u001b[49m\u001b[43mconfig\u001b[49m\u001b[43m,\u001b[49m\n\u001b[32m   2520\u001b[39m \u001b[43m        \u001b[49m\u001b[43mstream_mode\u001b[49m\u001b[43m=\u001b[49m\u001b[43mstream_mode\u001b[49m\u001b[43m,\u001b[49m\n\u001b[32m   2521\u001b[39m \u001b[43m        \u001b[49m\u001b[43mprint_mode\u001b[49m\u001b[43m=\u001b[49m\u001b[43mprint_mode\u001b[49m\u001b[43m,\u001b[49m\n\u001b[32m   2522\u001b[39m \u001b[43m        \u001b[49m\u001b[43moutput_keys\u001b[49m\u001b[43m=\u001b[49m\u001b[43moutput_keys\u001b[49m\u001b[43m,\u001b[49m\n\u001b[32m   2523\u001b[39m \u001b[43m        \u001b[49m\u001b[43minterrupt_before\u001b[49m\u001b[43m=\u001b[49m\u001b[43minterrupt_before\u001b[49m\u001b[43m,\u001b[49m\n\u001b[32m   2524\u001b[39m \u001b[43m        \u001b[49m\u001b[43minterrupt_after\u001b[49m\u001b[43m=\u001b[49m\u001b[43minterrupt_after\u001b[49m\u001b[43m,\u001b[49m\n\u001b[32m   2525\u001b[39m \u001b[43m        \u001b[49m\u001b[43mdurability\u001b[49m\u001b[43m=\u001b[49m\u001b[43mdurability\u001b[49m\u001b[43m,\u001b[49m\n\u001b[32m   2526\u001b[39m \u001b[43m    \u001b[49m\u001b[43m)\u001b[49m\n\u001b[32m   2527\u001b[39m     \u001b[38;5;28;01mif\u001b[39;00m checkpointer \u001b[38;5;129;01mis\u001b[39;00m \u001b[38;5;28;01mNone\u001b[39;00m \u001b[38;5;129;01mand\u001b[39;00m durability \u001b[38;5;129;01mis\u001b[39;00m \u001b[38;5;129;01mnot\u001b[39;00m \u001b[38;5;28;01mNone\u001b[39;00m:\n\u001b[32m   2528\u001b[39m         warnings.warn(\n\u001b[32m   2529\u001b[39m             \u001b[33m\"\u001b[39m\u001b[33m`durability` has no effect when no checkpointer is present.\u001b[39m\u001b[33m\"\u001b[39m,\n\u001b[32m   2530\u001b[39m         )\n",
      "\u001b[36mFile \u001b[39m\u001b[32mc:\\Users\\deeks\\OneDrive\\Desktop\\Learning\\AI\\Langgraph\\LangGraphPOC\\.venv\\Lib\\site-packages\\langgraph\\pregel\\main.py:2390\u001b[39m, in \u001b[36mPregel._defaults\u001b[39m\u001b[34m(self, config, stream_mode, print_mode, output_keys, interrupt_before, interrupt_after, durability)\u001b[39m\n\u001b[32m   2388\u001b[39m     checkpointer = \u001b[38;5;28mself\u001b[39m.checkpointer\n\u001b[32m   2389\u001b[39m \u001b[38;5;28;01mif\u001b[39;00m checkpointer \u001b[38;5;129;01mand\u001b[39;00m \u001b[38;5;129;01mnot\u001b[39;00m config.get(CONF):\n\u001b[32m-> \u001b[39m\u001b[32m2390\u001b[39m     \u001b[38;5;28;01mraise\u001b[39;00m \u001b[38;5;167;01mValueError\u001b[39;00m(\n\u001b[32m   2391\u001b[39m         \u001b[33m\"\u001b[39m\u001b[33mCheckpointer requires one or more of the following \u001b[39m\u001b[33m'\u001b[39m\u001b[33mconfigurable\u001b[39m\u001b[33m'\u001b[39m\u001b[33m \u001b[39m\u001b[33m\"\u001b[39m\n\u001b[32m   2392\u001b[39m         \u001b[33m\"\u001b[39m\u001b[33mkeys: thread_id, checkpoint_ns, checkpoint_id\u001b[39m\u001b[33m\"\u001b[39m\n\u001b[32m   2393\u001b[39m     )\n\u001b[32m   2394\u001b[39m \u001b[38;5;28;01mif\u001b[39;00m CONFIG_KEY_RUNTIME \u001b[38;5;129;01min\u001b[39;00m config.get(CONF, {}):\n\u001b[32m   2395\u001b[39m     store: BaseStore | \u001b[38;5;28;01mNone\u001b[39;00m = config[CONF][CONFIG_KEY_RUNTIME].store\n",
      "\u001b[31mValueError\u001b[39m: Checkpointer requires one or more of the following 'configurable' keys: thread_id, checkpoint_ns, checkpoint_id"
     ]
    }
   ],
   "source": [
    "response=graph.invoke({\"messages\":\" What is my name\"})\n",
    "\n",
    "for m in response['messages']:\n",
    "    m.pretty_print()"
   ]
  },
  {
   "cell_type": "code",
   "execution_count": 34,
   "id": "927c7ae8",
   "metadata": {},
   "outputs": [
    {
     "data": {
      "text/plain": [
       "{'messages': [HumanMessage(content='my name is Deekshith', additional_kwargs={}, response_metadata={}, id='7f497112-deab-4d1a-a12a-0f67f04a5aa7'),\n",
       "  AIMessage(content='', additional_kwargs={'tool_calls': [{'id': 'jsye4kdcr', 'function': {'arguments': '{\"query\":\"Deekshith\",\"search_depth\":\"advanced\",\"topic\":\"general\"}', 'name': 'tavily_search'}, 'type': 'function'}]}, response_metadata={'token_usage': {'completion_tokens': 32, 'prompt_tokens': 1856, 'total_tokens': 1888, 'completion_time': 0.051209421, 'prompt_time': 0.110994393, 'queue_time': 0.639137672, 'total_time': 0.162203814}, 'model_name': 'llama-3.1-8b-instant', 'system_fingerprint': 'fp_a7a2f9abbf', 'service_tier': 'on_demand', 'finish_reason': 'tool_calls', 'logprobs': None}, id='run--64375006-ebd1-4d5a-84b4-69af6d2f9b68-0', tool_calls=[{'name': 'tavily_search', 'args': {'query': 'Deekshith', 'search_depth': 'advanced', 'topic': 'general'}, 'id': 'jsye4kdcr', 'type': 'tool_call'}], usage_metadata={'input_tokens': 1856, 'output_tokens': 32, 'total_tokens': 1888}),\n",
       "  ToolMessage(content='{\"query\": \"Deekshith\", \"follow_up_questions\": null, \"answer\": null, \"images\": [], \"results\": [{\"title\": \"phrase meaning - \\\\\"for your information\\\\\" or \\\\\"for your notification ...\", \"url\": \"https://ell.stackexchange.com/questions/94070/for-your-information-or-for-your-notification\", \"content\": \"is the general phrase used when sending information of interest and may be shortened to\\\\n\\\\n> FYI\\\\n\\\\nin certain circumstances eg texting\\\\n\\\\nShare\\\\n\\\\nCC BY-SA 3.0\\\\n\\\\nImprove this answer\\\\n\\\\nFollow this answer to receive notifications\\\\n\\\\nanswered Jun 17, 2016 at 20:41\\\\n\\\\nPeterPeter\\\\n\\\\n66.5k66 gold badges6767 silver badges125125 bronze badges\\\\n\\\\nAdd a comment\\\\n |\\\\n\\\\n## You must log in to answer this question.\\\\n\\\\nStart asking to get answers\\\\n\\\\nFind the answer to your question by asking.\\\\n\\\\nAsk question [...] Follow this answer to receive notifications\\\\n\\\\nanswered Jun 17, 2016 at 17:41\\\\n\\\\nuser3169user3169\\\\n\\\\n31.2k22 gold badges3030 silver badges5757 bronze badges\\\\n\\\\nAdd a comment\\\\n |\\\\n\\\\nThis answer is useful\\\\n\\\\n0\\\\n\\\\nSave this answer.\\\\n\\\\nShow activity on this post.\\\\n\\\\nThe phrase\\\\n\\\\n> For your notification\\\\n\\\\nis not used. Usually when sending a message which requires immediate attention\\\\n\\\\n> Notice: something\\\\n\\\\nis used.\\\\n\\\\n> For your information\", \"score\": 0.08190829, \"raw_content\": null}, {\"title\": \"prepositions - What is the difference between \\\\\"information …\", \"url\": \"https://ell.stackexchange.com/questions/152129/what-is-the-difference-between-information-on-about-and-information-of\", \"content\": \"Is there any difference between \\\\\"information on/about\\\\\" and \\\\\"information of\\\\\"?\\\\n\\\\n prepositions\\\\n\\\\nShare\\\\n\\\\nImprove this question\\\\n\\\\nasked Dec 31, 2017 at 14:02\\\\n\\\\nrama9rama9\\\\n\\\\n2,51255 gold badges3030 silver badges5757 bronze badges\\\\n\\\\n1\\\\n\\\\n 1\\\\n\\\\n  books.google.com/ngrams/…\\\\n\\\\n  Raj 33\\\\n\\\\n  –  Raj 33\\\\n\\\\n  2017-12-31 14:16:21 +00:00\\\\n\\\\n   Commented Dec 31, 2017 at 14:16\\\\n\\\\nAdd a comment   |\\\\n\\\\n## 1 Answer 1\\\\n\\\\nReset to default\\\\n\\\\n5 [...] Improve this answer\\\\n\\\\nedited Dec 31, 2017 at 14:54\\\\n\\\\nanswered Dec 31, 2017 at 14:16\\\\n\\\\nZannaZanna\\\\n\\\\n48377 silver badges1717 bronze badges\\\\n\\\\nAdd a comment   |\\\\n\\\\n## You must log in to answer this question.\\\\n\\\\nStart asking to get answers\\\\n\\\\nFind the answer to your question by asking.\\\\n\\\\nAsk question\\\\n\\\\nExplore related questions\\\\n\\\\n prepositions\\\\n\\\\nSee similar questions with these tags.\", \"score\": 0.065419644, \"raw_content\": null}], \"response_time\": 4.37, \"request_id\": \"ab8f71f3-27ce-4d41-88ed-c4e1d298e181\"}', name='tavily_search', id='0cb6eb90-05b4-4b13-9d65-b737eb905fa4', tool_call_id='jsye4kdcr'),\n",
       "  AIMessage(content='It seems like the information you are looking for is not present in the search results. Let me try to search again with a different approach.\\n\\n', additional_kwargs={'tool_calls': [{'id': 'e98m2208h', 'function': {'arguments': '{\"query\":\"Deekshith person\",\"search_depth\":\"advanced\",\"topic\":\"general\"}', 'name': 'tavily_search'}, 'type': 'function'}]}, response_metadata={'token_usage': {'completion_tokens': 61, 'prompt_tokens': 2609, 'total_tokens': 2670, 'completion_time': 0.106632898, 'prompt_time': 0.167833048, 'queue_time': 0.223460585, 'total_time': 0.274465946}, 'model_name': 'llama-3.1-8b-instant', 'system_fingerprint': 'fp_3ddc9808b3', 'service_tier': 'on_demand', 'finish_reason': 'tool_calls', 'logprobs': None}, id='run--a304cb1a-55b7-44cc-8b72-4a9562069246-0', tool_calls=[{'name': 'tavily_search', 'args': {'query': 'Deekshith person', 'search_depth': 'advanced', 'topic': 'general'}, 'id': 'e98m2208h', 'type': 'tool_call'}], usage_metadata={'input_tokens': 2609, 'output_tokens': 61, 'total_tokens': 2670}),\n",
       "  ToolMessage(content='{\"query\": \"Deekshith person\", \"follow_up_questions\": null, \"answer\": null, \"images\": [], \"results\": [{\"url\": \"https://www.momjunction.com/baby-names/deekshith/\", \"title\": \"Explore Deekshith: Meaning, Origin & Popularity\", \"content\": \"Deekshith is an Indian masculine name with roots in the ancient Sanskrit language. Originating from the word diksita, the name translates to ‘prepared’, or ‘initiated’, referring to someone who has undergone a consecration ceremony. Pronounced as ‘dee-kshith’, Deekshith may be affectionately referred to by nicknames such as Deeks, Diki, Diksh, Theek, or Kshith, adding a touch of familiarity and warmth. Delve deeper into the article to learn more about this traditional name. [...] Aanchal Kumar is a certified Tarot card reader, numerologist, astrologer, and LOA coach. She began practicing numerology when she was 20; has 12 years of experience in numerology and five years in astrology. Aanchal believes that numbers reveal the magic of a person’s journey, helping them understand themselves at a deeper level.   \\\\n  \\\\nRead full bio of Aanchal Kumar\\\\n\\\\nKavita Kankani\\\\nFollow MomJunction on Linkedin [...] Read to know what characteristics the name Deekshith is known for in numerology. Here we have avoided repetition of letters and added them just once for a better reading experience.\\\\n\\\\nDYou are reliable, determined, and practical. You desire stability in your life and are hard-working..\\\\n\\\\nEYou may be suitable for financial, legal, and public work. However, a repetition of these letters more than seven times can indicate frivolity.\", \"score\": 0.7938904, \"raw_content\": null}, {\"url\": \"https://en.wikipedia.org/wiki/Dheekshith_Shetty#:~:text=Dheekshith Shetty (/ˈdiː,performance in Dasara (2023).\", \"title\": \"Dheekshith Shetty - Wikipedia\", \"content\": \"Dheekshith Shetty (/ˈdiːkʃɪθ ˈʃɛti/) is an Indian actor who predominantly works in Kannada and Telugu films. He is widely known for Dia \\\\\"Dia (film)\\\\\") (2020), Dasara \\\\\"Dasara (film)\\\\\") (2023) and Blink \\\\\"Blink (2024 film)\\\\\") (2024), and the television show Naagini. Shetty won the SIIMA Award for Best Supporting Actor – Telugu for his performance in Dasara \\\\\"Dasara (film)\\\\\") (2023).\\\\n\\\\n## Career [...] Wikipedia\\\\nThe Free Encyclopedia\\\\n\\\\n## Contents\\\\n\\\\n# Dheekshith Shetty\\\\n\\\\n| Dheekshith Shetty | |\\\\n --- |\\\\n| Shetty in 2022 | |\\\\n| Born | (1995-12-22) 22 December 1995 (age 29)  Kundapura, Karnataka, India |\\\\n| Occupation | Actor |\\\\n| Years active | 2016−present | [...] Wikimedia Foundation\\\\nPowered by MediaWiki\", \"score\": 0.7413937, \"raw_content\": null}], \"response_time\": 4.98, \"request_id\": \"dc2de977-5a07-4e86-890e-2dfc4cb36f6d\"}', name='tavily_search', id='b14ce0f9-b2e4-4da2-a9b5-7573f9785179', tool_call_id='e98m2208h'),\n",
       "  AIMessage(content='It appears that \"Deekshith\" is a name with Indian origins. The name is derived from the Sanskrit word \"diksita,\" which means \"prepared\" or \"initiated.\" It is often associated with qualities such as reliability, determination, and practicality. There is also a person named Dheekshith Shetty, an Indian actor who has worked in several films and television shows.', additional_kwargs={}, response_metadata={'token_usage': {'completion_tokens': 84, 'prompt_tokens': 3398, 'total_tokens': 3482, 'completion_time': 0.124640124, 'prompt_time': 0.225172623, 'queue_time': 0.299922895, 'total_time': 0.349812747}, 'model_name': 'llama-3.1-8b-instant', 'system_fingerprint': 'fp_90c2e79dab', 'service_tier': 'on_demand', 'finish_reason': 'stop', 'logprobs': None}, id='run--c2eb1a61-0566-4cf9-ba8c-5fb5b4935198-0', usage_metadata={'input_tokens': 3398, 'output_tokens': 84, 'total_tokens': 3482})]}"
      ]
     },
     "execution_count": 34,
     "metadata": {},
     "output_type": "execute_result"
    }
   ],
   "source": [
    "config={\"configurable\":{\"thread_id\":\"1\"}}\n",
    "response = graph.invoke({\"messages\":\"my name is Deekshith\"},config=config)\n",
    "response"
   ]
  },
  {
   "cell_type": "code",
   "execution_count": 36,
   "id": "ab71fe77",
   "metadata": {},
   "outputs": [
    {
     "data": {
      "text/plain": [
       "'It appears that \"Deekshith\" is a name with Indian origins. The name is derived from the Sanskrit word \"diksita,\" which means \"prepared\" or \"initiated.\" It is often associated with qualities such as reliability, determination, and practicality. There is also a person named Dheekshith Shetty, an Indian actor who has worked in several films and television shows.'"
      ]
     },
     "execution_count": 36,
     "metadata": {},
     "output_type": "execute_result"
    }
   ],
   "source": [
    "response['messages'][-1].content"
   ]
  },
  {
   "cell_type": "code",
   "execution_count": 41,
   "id": "003eb7e7",
   "metadata": {},
   "outputs": [
    {
     "data": {
      "text/plain": [
       "\"I didn't actually remember your name. I'm a large language model, I don't have the ability to store or recall personal information about individual users. Each time you interact with me, it's a new conversation and I don't retain any information from previous conversations.\\n\\nWhen you asked me how I remembered your name, I was trying to provide a plausible explanation based on the conversation we had earlier. However, I realize now that I was mistaken and I didn't actually remember your name. I'm just a language model, I don't have personal memories or the ability to recall individual conversations.\""
      ]
     },
     "execution_count": 41,
     "metadata": {},
     "output_type": "execute_result"
    }
   ],
   "source": [
    "response = graph.invoke({\"messages\":\"Hey,How did you remember my name\"},config=config)\n",
    "response['messages'][-1].content"
   ]
  },
  {
   "cell_type": "markdown",
   "id": "fbda6208",
   "metadata": {},
   "source": [
    "Streaming\n",
    "\n",
    "Methods : stream() and astream()\n",
    "\n",
    "These methods are sync and async methods for streaming back results\n",
    "\n",
    "Additional parameters in streaming modes for graph state\n",
    "  values  : This streams the full state of graph after each node is called\n",
    "  updates : This streams update state of the graph after each node is called"
   ]
  },
  {
   "cell_type": "code",
   "execution_count": 42,
   "id": "378a43fa",
   "metadata": {},
   "outputs": [],
   "source": [
    "from langgraph.checkpoint.memory import MemorySaver\n",
    "memory=MemorySaver()"
   ]
  },
  {
   "cell_type": "code",
   "execution_count": 43,
   "id": "43eff446",
   "metadata": {},
   "outputs": [],
   "source": [
    "def superbot(state:State):\n",
    "    return {\"messages\":[llm.invoke(state[\"messages\"])]}"
   ]
  },
  {
   "cell_type": "code",
   "execution_count": 47,
   "id": "4fcaa2ec",
   "metadata": {},
   "outputs": [],
   "source": [
    "graph = StateGraph(State)\n",
    "\n",
    "graph.add_node(\"SuperBot\",superbot)\n",
    "\n",
    "graph.add_edge(START,\"SuperBot\")\n",
    "graph.add_edge(\"SuperBot\",END)\n",
    "\n",
    "\n",
    "graph_builder = graph.compile(checkpointer=memory)\n",
    "\n",
    "\n",
    "\n",
    "# from IPython.display import Image,display\n",
    "# display(Image(graph_builder.get_graph().draw_mermaid_png()))"
   ]
  },
  {
   "cell_type": "code",
   "execution_count": 49,
   "id": "a95c3a19",
   "metadata": {},
   "outputs": [
    {
     "data": {
      "text/plain": [
       "{'messages': [HumanMessage(content='my name is Deekshith', additional_kwargs={}, response_metadata={}, id='72834122-208e-468e-a5dd-98f207cba539'),\n",
       "  AIMessage(content=\"Hello Deekshith, it's nice to meet you. Is there something I can help you with today?\", additional_kwargs={}, response_metadata={'token_usage': {'completion_tokens': 24, 'prompt_tokens': 42, 'total_tokens': 66, 'completion_time': 0.040593421, 'prompt_time': 0.003202361, 'queue_time': 0.221869955, 'total_time': 0.043795782}, 'model_name': 'llama-3.1-8b-instant', 'system_fingerprint': 'fp_50a6be1b6f', 'service_tier': 'on_demand', 'finish_reason': 'stop', 'logprobs': None}, id='run--5211a1c6-3d5e-41cb-8e57-6b555d4268c3-0', usage_metadata={'input_tokens': 42, 'output_tokens': 24, 'total_tokens': 66})]}"
      ]
     },
     "execution_count": 49,
     "metadata": {},
     "output_type": "execute_result"
    }
   ],
   "source": [
    "#invocation\n",
    "\n",
    "config={\"configurable\":{\"thread_id\":\"1\"}}\n",
    "response = graph_builder.invoke({\"messages\":\"my name is Deekshith\"},config=config)\n",
    "response"
   ]
  },
  {
   "cell_type": "code",
   "execution_count": null,
   "id": "3bf7fa65",
   "metadata": {},
   "outputs": [
    {
     "name": "stdout",
     "output_type": "stream",
     "text": [
      "{'SuperBot': {'messages': [AIMessage(content=\"Deekshith, it seems like you're excited to talk about football. Let's try something different. If you could play in any football stadium in the world, which one would it be and why?\", additional_kwargs={}, response_metadata={'token_usage': {'completion_tokens': 43, 'prompt_tokens': 243, 'total_tokens': 286, 'completion_time': 0.067980047, 'prompt_time': 0.014670022, 'queue_time': 0.217164953, 'total_time': 0.082650069}, 'model_name': 'llama-3.1-8b-instant', 'system_fingerprint': 'fp_50a6be1b6f', 'service_tier': 'on_demand', 'finish_reason': 'stop', 'logprobs': None}, id='run--c64c9f14-e346-4170-8a0d-a83015059594-0', usage_metadata={'input_tokens': 243, 'output_tokens': 43, 'total_tokens': 286})]}}\n"
     ]
    }
   ],
   "source": [
    "#mode  update :   specfic output\n",
    "\n",
    "config={\"configurable\":{\"thread_id\":\"3\"}}\n",
    "\n",
    "for chunk in graph_builder.stream({\"messages\":\"my name is Deekshith and I like football\"},config,stream_mode=\"updates\"):\n",
    "    print(chunk)"
   ]
  },
  {
   "cell_type": "code",
   "execution_count": null,
   "id": "06b3cfb3",
   "metadata": {},
   "outputs": [
    {
     "name": "stdout",
     "output_type": "stream",
     "text": [
      "{'messages': [HumanMessage(content='my name is Deekshith and I like football', additional_kwargs={}, response_metadata={}, id='acb57efb-f6fa-4875-aea6-b0034164b1a2'), AIMessage(content=\"Nice to meet you, Deekshith. Football is a fantastic sport, isn't it? Which team or league do you support? Are you a fan of the English Premier League, La Liga, or perhaps the UEFA Champions League?\", additional_kwargs={}, response_metadata={'token_usage': {'completion_tokens': 49, 'prompt_tokens': 46, 'total_tokens': 95, 'completion_time': 0.072411338, 'prompt_time': 0.003271262, 'queue_time': 0.214414076, 'total_time': 0.0756826}, 'model_name': 'llama-3.1-8b-instant', 'system_fingerprint': 'fp_90c2e79dab', 'service_tier': 'on_demand', 'finish_reason': 'stop', 'logprobs': None}, id='run--7e44c442-872b-4ec5-a440-0e80c0251aa8-0', usage_metadata={'input_tokens': 46, 'output_tokens': 49, 'total_tokens': 95}), HumanMessage(content='my name is Deekshith and I like football', additional_kwargs={}, response_metadata={}, id='bbd3a737-b603-47ae-9878-7350575adf1a'), AIMessage(content='Nice to meet you, Deekshith. Football is a great passion to have. Do you play football yourself, or are you more of a fan who loves to watch and follow the game?', additional_kwargs={}, response_metadata={'token_usage': {'completion_tokens': 41, 'prompt_tokens': 115, 'total_tokens': 156, 'completion_time': 0.080822983, 'prompt_time': 0.006950229, 'queue_time': 0.216477548, 'total_time': 0.087773212}, 'model_name': 'llama-3.1-8b-instant', 'system_fingerprint': 'fp_90c2e79dab', 'service_tier': 'on_demand', 'finish_reason': 'stop', 'logprobs': None}, id='run--dcc483c5-d4ae-4077-9709-799405b5f325-0', usage_metadata={'input_tokens': 115, 'output_tokens': 41, 'total_tokens': 156}), HumanMessage(content='my name is Deekshith and I like football', additional_kwargs={}, response_metadata={}, id='bb10f4ab-8b1d-4964-9099-f1298baf7bc4'), AIMessage(content=\"It's nice to chat with you about football, Deekshith. If you're interested, we can talk about the latest football news, your favorite players, or your favorite teams. What would you like to talk about?\", additional_kwargs={}, response_metadata={'token_usage': {'completion_tokens': 47, 'prompt_tokens': 176, 'total_tokens': 223, 'completion_time': 0.091310916, 'prompt_time': 0.009461594, 'queue_time': 0.213911972, 'total_time': 0.10077251}, 'model_name': 'llama-3.1-8b-instant', 'system_fingerprint': 'fp_3ddc9808b3', 'service_tier': 'on_demand', 'finish_reason': 'stop', 'logprobs': None}, id='run--d7419729-6052-479e-8d62-9fca57a003d7-0', usage_metadata={'input_tokens': 176, 'output_tokens': 47, 'total_tokens': 223}), HumanMessage(content='my name is Deekshith and I like football', additional_kwargs={}, response_metadata={}, id='da983245-6147-46cc-95e0-64f7954f45d8'), AIMessage(content=\"Deekshith, it seems like you're excited to talk about football. Let's try something different. If you could play in any football stadium in the world, which one would it be and why?\", additional_kwargs={}, response_metadata={'token_usage': {'completion_tokens': 43, 'prompt_tokens': 243, 'total_tokens': 286, 'completion_time': 0.067980047, 'prompt_time': 0.014670022, 'queue_time': 0.217164953, 'total_time': 0.082650069}, 'model_name': 'llama-3.1-8b-instant', 'system_fingerprint': 'fp_50a6be1b6f', 'service_tier': 'on_demand', 'finish_reason': 'stop', 'logprobs': None}, id='run--c64c9f14-e346-4170-8a0d-a83015059594-0', usage_metadata={'input_tokens': 243, 'output_tokens': 43, 'total_tokens': 286}), HumanMessage(content='my name is Deekshith and I like football', additional_kwargs={}, response_metadata={}, id='31432fac-399b-4c6d-bfd0-96ecf74c7f3d')]}\n",
      "{'messages': [HumanMessage(content='my name is Deekshith and I like football', additional_kwargs={}, response_metadata={}, id='acb57efb-f6fa-4875-aea6-b0034164b1a2'), AIMessage(content=\"Nice to meet you, Deekshith. Football is a fantastic sport, isn't it? Which team or league do you support? Are you a fan of the English Premier League, La Liga, or perhaps the UEFA Champions League?\", additional_kwargs={}, response_metadata={'token_usage': {'completion_tokens': 49, 'prompt_tokens': 46, 'total_tokens': 95, 'completion_time': 0.072411338, 'prompt_time': 0.003271262, 'queue_time': 0.214414076, 'total_time': 0.0756826}, 'model_name': 'llama-3.1-8b-instant', 'system_fingerprint': 'fp_90c2e79dab', 'service_tier': 'on_demand', 'finish_reason': 'stop', 'logprobs': None}, id='run--7e44c442-872b-4ec5-a440-0e80c0251aa8-0', usage_metadata={'input_tokens': 46, 'output_tokens': 49, 'total_tokens': 95}), HumanMessage(content='my name is Deekshith and I like football', additional_kwargs={}, response_metadata={}, id='bbd3a737-b603-47ae-9878-7350575adf1a'), AIMessage(content='Nice to meet you, Deekshith. Football is a great passion to have. Do you play football yourself, or are you more of a fan who loves to watch and follow the game?', additional_kwargs={}, response_metadata={'token_usage': {'completion_tokens': 41, 'prompt_tokens': 115, 'total_tokens': 156, 'completion_time': 0.080822983, 'prompt_time': 0.006950229, 'queue_time': 0.216477548, 'total_time': 0.087773212}, 'model_name': 'llama-3.1-8b-instant', 'system_fingerprint': 'fp_90c2e79dab', 'service_tier': 'on_demand', 'finish_reason': 'stop', 'logprobs': None}, id='run--dcc483c5-d4ae-4077-9709-799405b5f325-0', usage_metadata={'input_tokens': 115, 'output_tokens': 41, 'total_tokens': 156}), HumanMessage(content='my name is Deekshith and I like football', additional_kwargs={}, response_metadata={}, id='bb10f4ab-8b1d-4964-9099-f1298baf7bc4'), AIMessage(content=\"It's nice to chat with you about football, Deekshith. If you're interested, we can talk about the latest football news, your favorite players, or your favorite teams. What would you like to talk about?\", additional_kwargs={}, response_metadata={'token_usage': {'completion_tokens': 47, 'prompt_tokens': 176, 'total_tokens': 223, 'completion_time': 0.091310916, 'prompt_time': 0.009461594, 'queue_time': 0.213911972, 'total_time': 0.10077251}, 'model_name': 'llama-3.1-8b-instant', 'system_fingerprint': 'fp_3ddc9808b3', 'service_tier': 'on_demand', 'finish_reason': 'stop', 'logprobs': None}, id='run--d7419729-6052-479e-8d62-9fca57a003d7-0', usage_metadata={'input_tokens': 176, 'output_tokens': 47, 'total_tokens': 223}), HumanMessage(content='my name is Deekshith and I like football', additional_kwargs={}, response_metadata={}, id='da983245-6147-46cc-95e0-64f7954f45d8'), AIMessage(content=\"Deekshith, it seems like you're excited to talk about football. Let's try something different. If you could play in any football stadium in the world, which one would it be and why?\", additional_kwargs={}, response_metadata={'token_usage': {'completion_tokens': 43, 'prompt_tokens': 243, 'total_tokens': 286, 'completion_time': 0.067980047, 'prompt_time': 0.014670022, 'queue_time': 0.217164953, 'total_time': 0.082650069}, 'model_name': 'llama-3.1-8b-instant', 'system_fingerprint': 'fp_50a6be1b6f', 'service_tier': 'on_demand', 'finish_reason': 'stop', 'logprobs': None}, id='run--c64c9f14-e346-4170-8a0d-a83015059594-0', usage_metadata={'input_tokens': 243, 'output_tokens': 43, 'total_tokens': 286}), HumanMessage(content='my name is Deekshith and I like football', additional_kwargs={}, response_metadata={}, id='31432fac-399b-4c6d-bfd0-96ecf74c7f3d'), AIMessage(content=\"It seems like you're enthusiastic about football, Deekshith. Let's get into a fun conversation. If you could invite any three football legends to play a friendly match with you, who would they be and why?\", additional_kwargs={}, response_metadata={'token_usage': {'completion_tokens': 46, 'prompt_tokens': 306, 'total_tokens': 352, 'completion_time': 0.064684584, 'prompt_time': 0.016891473, 'queue_time': 0.250807935, 'total_time': 0.081576057}, 'model_name': 'llama-3.1-8b-instant', 'system_fingerprint': 'fp_3ddc9808b3', 'service_tier': 'on_demand', 'finish_reason': 'stop', 'logprobs': None}, id='run--94041abb-4f75-4fb4-9d97-f55710542eb4-0', usage_metadata={'input_tokens': 306, 'output_tokens': 46, 'total_tokens': 352})]}\n"
     ]
    }
   ],
   "source": [
    "#mode values : adding all the conversation\n",
    "\n",
    "config={\"configurable\":{\"thread_id\":\"3\"}}\n",
    "\n",
    "for chunk in graph_builder.stream({\"messages\":\"my name is Deekshith and I like football\"},config,stream_mode=\"values\"):\n",
    "    print(chunk)"
   ]
  },
  {
   "cell_type": "code",
   "execution_count": null,
   "id": "9462bc78",
   "metadata": {},
   "outputs": [
    {
     "name": "stdout",
     "output_type": "stream",
     "text": [
      "{'event': 'on_chain_start', 'data': {'input': {'messages': 'my name is Deekshith and I like football'}}, 'name': 'LangGraph', 'tags': [], 'run_id': '1a266ca4-7455-414d-b36a-94fba3ce03ff', 'metadata': {'thread_id': '5'}, 'parent_ids': []}\n",
      "{'event': 'on_chain_stream', 'run_id': '1a266ca4-7455-414d-b36a-94fba3ce03ff', 'name': 'LangGraph', 'tags': [], 'metadata': {'thread_id': '5'}, 'data': {'chunk': {'messages': [HumanMessage(content='my name is Deekshith and I like football', additional_kwargs={}, response_metadata={}, id='18b30a2e-661c-4f5f-87b3-90909e635131')]}}, 'parent_ids': []}\n",
      "{'event': 'on_chain_start', 'data': {'input': {'messages': [HumanMessage(content='my name is Deekshith and I like football', additional_kwargs={}, response_metadata={}, id='18b30a2e-661c-4f5f-87b3-90909e635131')]}}, 'name': 'SuperBot', 'tags': ['graph:step:1'], 'run_id': '2d3de2b2-a7c9-46ac-a9e9-154dab2169d1', 'metadata': {'thread_id': '5', 'langgraph_step': 1, 'langgraph_node': 'SuperBot', 'langgraph_triggers': ('branch:to:SuperBot',), 'langgraph_path': ('__pregel_pull', 'SuperBot'), 'langgraph_checkpoint_ns': 'SuperBot:6e7ddf72-c572-f82e-5091-7ff1ca2a5199'}, 'parent_ids': ['1a266ca4-7455-414d-b36a-94fba3ce03ff']}\n",
      "{'event': 'on_chat_model_start', 'data': {'input': {'messages': [[HumanMessage(content='my name is Deekshith and I like football', additional_kwargs={}, response_metadata={}, id='18b30a2e-661c-4f5f-87b3-90909e635131')]]}}, 'name': 'ChatGroq', 'tags': ['seq:step:1'], 'run_id': '1f74cdac-86d5-4034-a746-1bf4a4b9460a', 'metadata': {'thread_id': '5', 'langgraph_step': 1, 'langgraph_node': 'SuperBot', 'langgraph_triggers': ('branch:to:SuperBot',), 'langgraph_path': ('__pregel_pull', 'SuperBot'), 'langgraph_checkpoint_ns': 'SuperBot:6e7ddf72-c572-f82e-5091-7ff1ca2a5199', 'checkpoint_ns': 'SuperBot:6e7ddf72-c572-f82e-5091-7ff1ca2a5199', 'ls_provider': 'groq', 'ls_model_name': 'llama-3.1-8b-instant', 'ls_model_type': 'chat', 'ls_temperature': 0.7}, 'parent_ids': ['1a266ca4-7455-414d-b36a-94fba3ce03ff', '2d3de2b2-a7c9-46ac-a9e9-154dab2169d1']}\n",
      "{'event': 'on_chat_model_stream', 'data': {'chunk': AIMessageChunk(content='', additional_kwargs={}, response_metadata={}, id='run--1f74cdac-86d5-4034-a746-1bf4a4b9460a')}, 'run_id': '1f74cdac-86d5-4034-a746-1bf4a4b9460a', 'name': 'ChatGroq', 'tags': ['seq:step:1'], 'metadata': {'thread_id': '5', 'langgraph_step': 1, 'langgraph_node': 'SuperBot', 'langgraph_triggers': ('branch:to:SuperBot',), 'langgraph_path': ('__pregel_pull', 'SuperBot'), 'langgraph_checkpoint_ns': 'SuperBot:6e7ddf72-c572-f82e-5091-7ff1ca2a5199', 'checkpoint_ns': 'SuperBot:6e7ddf72-c572-f82e-5091-7ff1ca2a5199', 'ls_provider': 'groq', 'ls_model_name': 'llama-3.1-8b-instant', 'ls_model_type': 'chat', 'ls_temperature': 0.7}, 'parent_ids': ['1a266ca4-7455-414d-b36a-94fba3ce03ff', '2d3de2b2-a7c9-46ac-a9e9-154dab2169d1']}\n",
      "{'event': 'on_chat_model_stream', 'data': {'chunk': AIMessageChunk(content='Hello', additional_kwargs={}, response_metadata={}, id='run--1f74cdac-86d5-4034-a746-1bf4a4b9460a')}, 'run_id': '1f74cdac-86d5-4034-a746-1bf4a4b9460a', 'name': 'ChatGroq', 'tags': ['seq:step:1'], 'metadata': {'thread_id': '5', 'langgraph_step': 1, 'langgraph_node': 'SuperBot', 'langgraph_triggers': ('branch:to:SuperBot',), 'langgraph_path': ('__pregel_pull', 'SuperBot'), 'langgraph_checkpoint_ns': 'SuperBot:6e7ddf72-c572-f82e-5091-7ff1ca2a5199', 'checkpoint_ns': 'SuperBot:6e7ddf72-c572-f82e-5091-7ff1ca2a5199', 'ls_provider': 'groq', 'ls_model_name': 'llama-3.1-8b-instant', 'ls_model_type': 'chat', 'ls_temperature': 0.7}, 'parent_ids': ['1a266ca4-7455-414d-b36a-94fba3ce03ff', '2d3de2b2-a7c9-46ac-a9e9-154dab2169d1']}\n",
      "{'event': 'on_chat_model_stream', 'data': {'chunk': AIMessageChunk(content=' De', additional_kwargs={}, response_metadata={}, id='run--1f74cdac-86d5-4034-a746-1bf4a4b9460a')}, 'run_id': '1f74cdac-86d5-4034-a746-1bf4a4b9460a', 'name': 'ChatGroq', 'tags': ['seq:step:1'], 'metadata': {'thread_id': '5', 'langgraph_step': 1, 'langgraph_node': 'SuperBot', 'langgraph_triggers': ('branch:to:SuperBot',), 'langgraph_path': ('__pregel_pull', 'SuperBot'), 'langgraph_checkpoint_ns': 'SuperBot:6e7ddf72-c572-f82e-5091-7ff1ca2a5199', 'checkpoint_ns': 'SuperBot:6e7ddf72-c572-f82e-5091-7ff1ca2a5199', 'ls_provider': 'groq', 'ls_model_name': 'llama-3.1-8b-instant', 'ls_model_type': 'chat', 'ls_temperature': 0.7}, 'parent_ids': ['1a266ca4-7455-414d-b36a-94fba3ce03ff', '2d3de2b2-a7c9-46ac-a9e9-154dab2169d1']}\n",
      "{'event': 'on_chat_model_stream', 'data': {'chunk': AIMessageChunk(content='ek', additional_kwargs={}, response_metadata={}, id='run--1f74cdac-86d5-4034-a746-1bf4a4b9460a')}, 'run_id': '1f74cdac-86d5-4034-a746-1bf4a4b9460a', 'name': 'ChatGroq', 'tags': ['seq:step:1'], 'metadata': {'thread_id': '5', 'langgraph_step': 1, 'langgraph_node': 'SuperBot', 'langgraph_triggers': ('branch:to:SuperBot',), 'langgraph_path': ('__pregel_pull', 'SuperBot'), 'langgraph_checkpoint_ns': 'SuperBot:6e7ddf72-c572-f82e-5091-7ff1ca2a5199', 'checkpoint_ns': 'SuperBot:6e7ddf72-c572-f82e-5091-7ff1ca2a5199', 'ls_provider': 'groq', 'ls_model_name': 'llama-3.1-8b-instant', 'ls_model_type': 'chat', 'ls_temperature': 0.7}, 'parent_ids': ['1a266ca4-7455-414d-b36a-94fba3ce03ff', '2d3de2b2-a7c9-46ac-a9e9-154dab2169d1']}\n",
      "{'event': 'on_chat_model_stream', 'data': {'chunk': AIMessageChunk(content='sh', additional_kwargs={}, response_metadata={}, id='run--1f74cdac-86d5-4034-a746-1bf4a4b9460a')}, 'run_id': '1f74cdac-86d5-4034-a746-1bf4a4b9460a', 'name': 'ChatGroq', 'tags': ['seq:step:1'], 'metadata': {'thread_id': '5', 'langgraph_step': 1, 'langgraph_node': 'SuperBot', 'langgraph_triggers': ('branch:to:SuperBot',), 'langgraph_path': ('__pregel_pull', 'SuperBot'), 'langgraph_checkpoint_ns': 'SuperBot:6e7ddf72-c572-f82e-5091-7ff1ca2a5199', 'checkpoint_ns': 'SuperBot:6e7ddf72-c572-f82e-5091-7ff1ca2a5199', 'ls_provider': 'groq', 'ls_model_name': 'llama-3.1-8b-instant', 'ls_model_type': 'chat', 'ls_temperature': 0.7}, 'parent_ids': ['1a266ca4-7455-414d-b36a-94fba3ce03ff', '2d3de2b2-a7c9-46ac-a9e9-154dab2169d1']}\n",
      "{'event': 'on_chat_model_stream', 'data': {'chunk': AIMessageChunk(content='ith', additional_kwargs={}, response_metadata={}, id='run--1f74cdac-86d5-4034-a746-1bf4a4b9460a')}, 'run_id': '1f74cdac-86d5-4034-a746-1bf4a4b9460a', 'name': 'ChatGroq', 'tags': ['seq:step:1'], 'metadata': {'thread_id': '5', 'langgraph_step': 1, 'langgraph_node': 'SuperBot', 'langgraph_triggers': ('branch:to:SuperBot',), 'langgraph_path': ('__pregel_pull', 'SuperBot'), 'langgraph_checkpoint_ns': 'SuperBot:6e7ddf72-c572-f82e-5091-7ff1ca2a5199', 'checkpoint_ns': 'SuperBot:6e7ddf72-c572-f82e-5091-7ff1ca2a5199', 'ls_provider': 'groq', 'ls_model_name': 'llama-3.1-8b-instant', 'ls_model_type': 'chat', 'ls_temperature': 0.7}, 'parent_ids': ['1a266ca4-7455-414d-b36a-94fba3ce03ff', '2d3de2b2-a7c9-46ac-a9e9-154dab2169d1']}\n",
      "{'event': 'on_chat_model_stream', 'data': {'chunk': AIMessageChunk(content=',', additional_kwargs={}, response_metadata={}, id='run--1f74cdac-86d5-4034-a746-1bf4a4b9460a')}, 'run_id': '1f74cdac-86d5-4034-a746-1bf4a4b9460a', 'name': 'ChatGroq', 'tags': ['seq:step:1'], 'metadata': {'thread_id': '5', 'langgraph_step': 1, 'langgraph_node': 'SuperBot', 'langgraph_triggers': ('branch:to:SuperBot',), 'langgraph_path': ('__pregel_pull', 'SuperBot'), 'langgraph_checkpoint_ns': 'SuperBot:6e7ddf72-c572-f82e-5091-7ff1ca2a5199', 'checkpoint_ns': 'SuperBot:6e7ddf72-c572-f82e-5091-7ff1ca2a5199', 'ls_provider': 'groq', 'ls_model_name': 'llama-3.1-8b-instant', 'ls_model_type': 'chat', 'ls_temperature': 0.7}, 'parent_ids': ['1a266ca4-7455-414d-b36a-94fba3ce03ff', '2d3de2b2-a7c9-46ac-a9e9-154dab2169d1']}\n",
      "{'event': 'on_chat_model_stream', 'data': {'chunk': AIMessageChunk(content=' nice', additional_kwargs={}, response_metadata={}, id='run--1f74cdac-86d5-4034-a746-1bf4a4b9460a')}, 'run_id': '1f74cdac-86d5-4034-a746-1bf4a4b9460a', 'name': 'ChatGroq', 'tags': ['seq:step:1'], 'metadata': {'thread_id': '5', 'langgraph_step': 1, 'langgraph_node': 'SuperBot', 'langgraph_triggers': ('branch:to:SuperBot',), 'langgraph_path': ('__pregel_pull', 'SuperBot'), 'langgraph_checkpoint_ns': 'SuperBot:6e7ddf72-c572-f82e-5091-7ff1ca2a5199', 'checkpoint_ns': 'SuperBot:6e7ddf72-c572-f82e-5091-7ff1ca2a5199', 'ls_provider': 'groq', 'ls_model_name': 'llama-3.1-8b-instant', 'ls_model_type': 'chat', 'ls_temperature': 0.7}, 'parent_ids': ['1a266ca4-7455-414d-b36a-94fba3ce03ff', '2d3de2b2-a7c9-46ac-a9e9-154dab2169d1']}\n",
      "{'event': 'on_chat_model_stream', 'data': {'chunk': AIMessageChunk(content=' to', additional_kwargs={}, response_metadata={}, id='run--1f74cdac-86d5-4034-a746-1bf4a4b9460a')}, 'run_id': '1f74cdac-86d5-4034-a746-1bf4a4b9460a', 'name': 'ChatGroq', 'tags': ['seq:step:1'], 'metadata': {'thread_id': '5', 'langgraph_step': 1, 'langgraph_node': 'SuperBot', 'langgraph_triggers': ('branch:to:SuperBot',), 'langgraph_path': ('__pregel_pull', 'SuperBot'), 'langgraph_checkpoint_ns': 'SuperBot:6e7ddf72-c572-f82e-5091-7ff1ca2a5199', 'checkpoint_ns': 'SuperBot:6e7ddf72-c572-f82e-5091-7ff1ca2a5199', 'ls_provider': 'groq', 'ls_model_name': 'llama-3.1-8b-instant', 'ls_model_type': 'chat', 'ls_temperature': 0.7}, 'parent_ids': ['1a266ca4-7455-414d-b36a-94fba3ce03ff', '2d3de2b2-a7c9-46ac-a9e9-154dab2169d1']}\n",
      "{'event': 'on_chat_model_stream', 'data': {'chunk': AIMessageChunk(content=' meet', additional_kwargs={}, response_metadata={}, id='run--1f74cdac-86d5-4034-a746-1bf4a4b9460a')}, 'run_id': '1f74cdac-86d5-4034-a746-1bf4a4b9460a', 'name': 'ChatGroq', 'tags': ['seq:step:1'], 'metadata': {'thread_id': '5', 'langgraph_step': 1, 'langgraph_node': 'SuperBot', 'langgraph_triggers': ('branch:to:SuperBot',), 'langgraph_path': ('__pregel_pull', 'SuperBot'), 'langgraph_checkpoint_ns': 'SuperBot:6e7ddf72-c572-f82e-5091-7ff1ca2a5199', 'checkpoint_ns': 'SuperBot:6e7ddf72-c572-f82e-5091-7ff1ca2a5199', 'ls_provider': 'groq', 'ls_model_name': 'llama-3.1-8b-instant', 'ls_model_type': 'chat', 'ls_temperature': 0.7}, 'parent_ids': ['1a266ca4-7455-414d-b36a-94fba3ce03ff', '2d3de2b2-a7c9-46ac-a9e9-154dab2169d1']}\n",
      "{'event': 'on_chat_model_stream', 'data': {'chunk': AIMessageChunk(content=' you', additional_kwargs={}, response_metadata={}, id='run--1f74cdac-86d5-4034-a746-1bf4a4b9460a')}, 'run_id': '1f74cdac-86d5-4034-a746-1bf4a4b9460a', 'name': 'ChatGroq', 'tags': ['seq:step:1'], 'metadata': {'thread_id': '5', 'langgraph_step': 1, 'langgraph_node': 'SuperBot', 'langgraph_triggers': ('branch:to:SuperBot',), 'langgraph_path': ('__pregel_pull', 'SuperBot'), 'langgraph_checkpoint_ns': 'SuperBot:6e7ddf72-c572-f82e-5091-7ff1ca2a5199', 'checkpoint_ns': 'SuperBot:6e7ddf72-c572-f82e-5091-7ff1ca2a5199', 'ls_provider': 'groq', 'ls_model_name': 'llama-3.1-8b-instant', 'ls_model_type': 'chat', 'ls_temperature': 0.7}, 'parent_ids': ['1a266ca4-7455-414d-b36a-94fba3ce03ff', '2d3de2b2-a7c9-46ac-a9e9-154dab2169d1']}\n",
      "{'event': 'on_chat_model_stream', 'data': {'chunk': AIMessageChunk(content='.', additional_kwargs={}, response_metadata={}, id='run--1f74cdac-86d5-4034-a746-1bf4a4b9460a')}, 'run_id': '1f74cdac-86d5-4034-a746-1bf4a4b9460a', 'name': 'ChatGroq', 'tags': ['seq:step:1'], 'metadata': {'thread_id': '5', 'langgraph_step': 1, 'langgraph_node': 'SuperBot', 'langgraph_triggers': ('branch:to:SuperBot',), 'langgraph_path': ('__pregel_pull', 'SuperBot'), 'langgraph_checkpoint_ns': 'SuperBot:6e7ddf72-c572-f82e-5091-7ff1ca2a5199', 'checkpoint_ns': 'SuperBot:6e7ddf72-c572-f82e-5091-7ff1ca2a5199', 'ls_provider': 'groq', 'ls_model_name': 'llama-3.1-8b-instant', 'ls_model_type': 'chat', 'ls_temperature': 0.7}, 'parent_ids': ['1a266ca4-7455-414d-b36a-94fba3ce03ff', '2d3de2b2-a7c9-46ac-a9e9-154dab2169d1']}\n",
      "{'event': 'on_chat_model_stream', 'data': {'chunk': AIMessageChunk(content=' Football', additional_kwargs={}, response_metadata={}, id='run--1f74cdac-86d5-4034-a746-1bf4a4b9460a')}, 'run_id': '1f74cdac-86d5-4034-a746-1bf4a4b9460a', 'name': 'ChatGroq', 'tags': ['seq:step:1'], 'metadata': {'thread_id': '5', 'langgraph_step': 1, 'langgraph_node': 'SuperBot', 'langgraph_triggers': ('branch:to:SuperBot',), 'langgraph_path': ('__pregel_pull', 'SuperBot'), 'langgraph_checkpoint_ns': 'SuperBot:6e7ddf72-c572-f82e-5091-7ff1ca2a5199', 'checkpoint_ns': 'SuperBot:6e7ddf72-c572-f82e-5091-7ff1ca2a5199', 'ls_provider': 'groq', 'ls_model_name': 'llama-3.1-8b-instant', 'ls_model_type': 'chat', 'ls_temperature': 0.7}, 'parent_ids': ['1a266ca4-7455-414d-b36a-94fba3ce03ff', '2d3de2b2-a7c9-46ac-a9e9-154dab2169d1']}\n",
      "{'event': 'on_chat_model_stream', 'data': {'chunk': AIMessageChunk(content=' is', additional_kwargs={}, response_metadata={}, id='run--1f74cdac-86d5-4034-a746-1bf4a4b9460a')}, 'run_id': '1f74cdac-86d5-4034-a746-1bf4a4b9460a', 'name': 'ChatGroq', 'tags': ['seq:step:1'], 'metadata': {'thread_id': '5', 'langgraph_step': 1, 'langgraph_node': 'SuperBot', 'langgraph_triggers': ('branch:to:SuperBot',), 'langgraph_path': ('__pregel_pull', 'SuperBot'), 'langgraph_checkpoint_ns': 'SuperBot:6e7ddf72-c572-f82e-5091-7ff1ca2a5199', 'checkpoint_ns': 'SuperBot:6e7ddf72-c572-f82e-5091-7ff1ca2a5199', 'ls_provider': 'groq', 'ls_model_name': 'llama-3.1-8b-instant', 'ls_model_type': 'chat', 'ls_temperature': 0.7}, 'parent_ids': ['1a266ca4-7455-414d-b36a-94fba3ce03ff', '2d3de2b2-a7c9-46ac-a9e9-154dab2169d1']}\n",
      "{'event': 'on_chat_model_stream', 'data': {'chunk': AIMessageChunk(content=' an', additional_kwargs={}, response_metadata={}, id='run--1f74cdac-86d5-4034-a746-1bf4a4b9460a')}, 'run_id': '1f74cdac-86d5-4034-a746-1bf4a4b9460a', 'name': 'ChatGroq', 'tags': ['seq:step:1'], 'metadata': {'thread_id': '5', 'langgraph_step': 1, 'langgraph_node': 'SuperBot', 'langgraph_triggers': ('branch:to:SuperBot',), 'langgraph_path': ('__pregel_pull', 'SuperBot'), 'langgraph_checkpoint_ns': 'SuperBot:6e7ddf72-c572-f82e-5091-7ff1ca2a5199', 'checkpoint_ns': 'SuperBot:6e7ddf72-c572-f82e-5091-7ff1ca2a5199', 'ls_provider': 'groq', 'ls_model_name': 'llama-3.1-8b-instant', 'ls_model_type': 'chat', 'ls_temperature': 0.7}, 'parent_ids': ['1a266ca4-7455-414d-b36a-94fba3ce03ff', '2d3de2b2-a7c9-46ac-a9e9-154dab2169d1']}\n",
      "{'event': 'on_chat_model_stream', 'data': {'chunk': AIMessageChunk(content=' amazing', additional_kwargs={}, response_metadata={}, id='run--1f74cdac-86d5-4034-a746-1bf4a4b9460a')}, 'run_id': '1f74cdac-86d5-4034-a746-1bf4a4b9460a', 'name': 'ChatGroq', 'tags': ['seq:step:1'], 'metadata': {'thread_id': '5', 'langgraph_step': 1, 'langgraph_node': 'SuperBot', 'langgraph_triggers': ('branch:to:SuperBot',), 'langgraph_path': ('__pregel_pull', 'SuperBot'), 'langgraph_checkpoint_ns': 'SuperBot:6e7ddf72-c572-f82e-5091-7ff1ca2a5199', 'checkpoint_ns': 'SuperBot:6e7ddf72-c572-f82e-5091-7ff1ca2a5199', 'ls_provider': 'groq', 'ls_model_name': 'llama-3.1-8b-instant', 'ls_model_type': 'chat', 'ls_temperature': 0.7}, 'parent_ids': ['1a266ca4-7455-414d-b36a-94fba3ce03ff', '2d3de2b2-a7c9-46ac-a9e9-154dab2169d1']}\n",
      "{'event': 'on_chat_model_stream', 'data': {'chunk': AIMessageChunk(content=' sport', additional_kwargs={}, response_metadata={}, id='run--1f74cdac-86d5-4034-a746-1bf4a4b9460a')}, 'run_id': '1f74cdac-86d5-4034-a746-1bf4a4b9460a', 'name': 'ChatGroq', 'tags': ['seq:step:1'], 'metadata': {'thread_id': '5', 'langgraph_step': 1, 'langgraph_node': 'SuperBot', 'langgraph_triggers': ('branch:to:SuperBot',), 'langgraph_path': ('__pregel_pull', 'SuperBot'), 'langgraph_checkpoint_ns': 'SuperBot:6e7ddf72-c572-f82e-5091-7ff1ca2a5199', 'checkpoint_ns': 'SuperBot:6e7ddf72-c572-f82e-5091-7ff1ca2a5199', 'ls_provider': 'groq', 'ls_model_name': 'llama-3.1-8b-instant', 'ls_model_type': 'chat', 'ls_temperature': 0.7}, 'parent_ids': ['1a266ca4-7455-414d-b36a-94fba3ce03ff', '2d3de2b2-a7c9-46ac-a9e9-154dab2169d1']}\n",
      "{'event': 'on_chat_model_stream', 'data': {'chunk': AIMessageChunk(content=',', additional_kwargs={}, response_metadata={}, id='run--1f74cdac-86d5-4034-a746-1bf4a4b9460a')}, 'run_id': '1f74cdac-86d5-4034-a746-1bf4a4b9460a', 'name': 'ChatGroq', 'tags': ['seq:step:1'], 'metadata': {'thread_id': '5', 'langgraph_step': 1, 'langgraph_node': 'SuperBot', 'langgraph_triggers': ('branch:to:SuperBot',), 'langgraph_path': ('__pregel_pull', 'SuperBot'), 'langgraph_checkpoint_ns': 'SuperBot:6e7ddf72-c572-f82e-5091-7ff1ca2a5199', 'checkpoint_ns': 'SuperBot:6e7ddf72-c572-f82e-5091-7ff1ca2a5199', 'ls_provider': 'groq', 'ls_model_name': 'llama-3.1-8b-instant', 'ls_model_type': 'chat', 'ls_temperature': 0.7}, 'parent_ids': ['1a266ca4-7455-414d-b36a-94fba3ce03ff', '2d3de2b2-a7c9-46ac-a9e9-154dab2169d1']}\n",
      "{'event': 'on_chat_model_stream', 'data': {'chunk': AIMessageChunk(content=' isn', additional_kwargs={}, response_metadata={}, id='run--1f74cdac-86d5-4034-a746-1bf4a4b9460a')}, 'run_id': '1f74cdac-86d5-4034-a746-1bf4a4b9460a', 'name': 'ChatGroq', 'tags': ['seq:step:1'], 'metadata': {'thread_id': '5', 'langgraph_step': 1, 'langgraph_node': 'SuperBot', 'langgraph_triggers': ('branch:to:SuperBot',), 'langgraph_path': ('__pregel_pull', 'SuperBot'), 'langgraph_checkpoint_ns': 'SuperBot:6e7ddf72-c572-f82e-5091-7ff1ca2a5199', 'checkpoint_ns': 'SuperBot:6e7ddf72-c572-f82e-5091-7ff1ca2a5199', 'ls_provider': 'groq', 'ls_model_name': 'llama-3.1-8b-instant', 'ls_model_type': 'chat', 'ls_temperature': 0.7}, 'parent_ids': ['1a266ca4-7455-414d-b36a-94fba3ce03ff', '2d3de2b2-a7c9-46ac-a9e9-154dab2169d1']}\n",
      "{'event': 'on_chat_model_stream', 'data': {'chunk': AIMessageChunk(content=\"'t\", additional_kwargs={}, response_metadata={}, id='run--1f74cdac-86d5-4034-a746-1bf4a4b9460a')}, 'run_id': '1f74cdac-86d5-4034-a746-1bf4a4b9460a', 'name': 'ChatGroq', 'tags': ['seq:step:1'], 'metadata': {'thread_id': '5', 'langgraph_step': 1, 'langgraph_node': 'SuperBot', 'langgraph_triggers': ('branch:to:SuperBot',), 'langgraph_path': ('__pregel_pull', 'SuperBot'), 'langgraph_checkpoint_ns': 'SuperBot:6e7ddf72-c572-f82e-5091-7ff1ca2a5199', 'checkpoint_ns': 'SuperBot:6e7ddf72-c572-f82e-5091-7ff1ca2a5199', 'ls_provider': 'groq', 'ls_model_name': 'llama-3.1-8b-instant', 'ls_model_type': 'chat', 'ls_temperature': 0.7}, 'parent_ids': ['1a266ca4-7455-414d-b36a-94fba3ce03ff', '2d3de2b2-a7c9-46ac-a9e9-154dab2169d1']}\n",
      "{'event': 'on_chat_model_stream', 'data': {'chunk': AIMessageChunk(content=' it', additional_kwargs={}, response_metadata={}, id='run--1f74cdac-86d5-4034-a746-1bf4a4b9460a')}, 'run_id': '1f74cdac-86d5-4034-a746-1bf4a4b9460a', 'name': 'ChatGroq', 'tags': ['seq:step:1'], 'metadata': {'thread_id': '5', 'langgraph_step': 1, 'langgraph_node': 'SuperBot', 'langgraph_triggers': ('branch:to:SuperBot',), 'langgraph_path': ('__pregel_pull', 'SuperBot'), 'langgraph_checkpoint_ns': 'SuperBot:6e7ddf72-c572-f82e-5091-7ff1ca2a5199', 'checkpoint_ns': 'SuperBot:6e7ddf72-c572-f82e-5091-7ff1ca2a5199', 'ls_provider': 'groq', 'ls_model_name': 'llama-3.1-8b-instant', 'ls_model_type': 'chat', 'ls_temperature': 0.7}, 'parent_ids': ['1a266ca4-7455-414d-b36a-94fba3ce03ff', '2d3de2b2-a7c9-46ac-a9e9-154dab2169d1']}\n",
      "{'event': 'on_chat_model_stream', 'data': {'chunk': AIMessageChunk(content='?', additional_kwargs={}, response_metadata={}, id='run--1f74cdac-86d5-4034-a746-1bf4a4b9460a')}, 'run_id': '1f74cdac-86d5-4034-a746-1bf4a4b9460a', 'name': 'ChatGroq', 'tags': ['seq:step:1'], 'metadata': {'thread_id': '5', 'langgraph_step': 1, 'langgraph_node': 'SuperBot', 'langgraph_triggers': ('branch:to:SuperBot',), 'langgraph_path': ('__pregel_pull', 'SuperBot'), 'langgraph_checkpoint_ns': 'SuperBot:6e7ddf72-c572-f82e-5091-7ff1ca2a5199', 'checkpoint_ns': 'SuperBot:6e7ddf72-c572-f82e-5091-7ff1ca2a5199', 'ls_provider': 'groq', 'ls_model_name': 'llama-3.1-8b-instant', 'ls_model_type': 'chat', 'ls_temperature': 0.7}, 'parent_ids': ['1a266ca4-7455-414d-b36a-94fba3ce03ff', '2d3de2b2-a7c9-46ac-a9e9-154dab2169d1']}\n",
      "{'event': 'on_chat_model_stream', 'data': {'chunk': AIMessageChunk(content=' Which', additional_kwargs={}, response_metadata={}, id='run--1f74cdac-86d5-4034-a746-1bf4a4b9460a')}, 'run_id': '1f74cdac-86d5-4034-a746-1bf4a4b9460a', 'name': 'ChatGroq', 'tags': ['seq:step:1'], 'metadata': {'thread_id': '5', 'langgraph_step': 1, 'langgraph_node': 'SuperBot', 'langgraph_triggers': ('branch:to:SuperBot',), 'langgraph_path': ('__pregel_pull', 'SuperBot'), 'langgraph_checkpoint_ns': 'SuperBot:6e7ddf72-c572-f82e-5091-7ff1ca2a5199', 'checkpoint_ns': 'SuperBot:6e7ddf72-c572-f82e-5091-7ff1ca2a5199', 'ls_provider': 'groq', 'ls_model_name': 'llama-3.1-8b-instant', 'ls_model_type': 'chat', 'ls_temperature': 0.7}, 'parent_ids': ['1a266ca4-7455-414d-b36a-94fba3ce03ff', '2d3de2b2-a7c9-46ac-a9e9-154dab2169d1']}\n",
      "{'event': 'on_chat_model_stream', 'data': {'chunk': AIMessageChunk(content=' team', additional_kwargs={}, response_metadata={}, id='run--1f74cdac-86d5-4034-a746-1bf4a4b9460a')}, 'run_id': '1f74cdac-86d5-4034-a746-1bf4a4b9460a', 'name': 'ChatGroq', 'tags': ['seq:step:1'], 'metadata': {'thread_id': '5', 'langgraph_step': 1, 'langgraph_node': 'SuperBot', 'langgraph_triggers': ('branch:to:SuperBot',), 'langgraph_path': ('__pregel_pull', 'SuperBot'), 'langgraph_checkpoint_ns': 'SuperBot:6e7ddf72-c572-f82e-5091-7ff1ca2a5199', 'checkpoint_ns': 'SuperBot:6e7ddf72-c572-f82e-5091-7ff1ca2a5199', 'ls_provider': 'groq', 'ls_model_name': 'llama-3.1-8b-instant', 'ls_model_type': 'chat', 'ls_temperature': 0.7}, 'parent_ids': ['1a266ca4-7455-414d-b36a-94fba3ce03ff', '2d3de2b2-a7c9-46ac-a9e9-154dab2169d1']}\n",
      "{'event': 'on_chat_model_stream', 'data': {'chunk': AIMessageChunk(content=' or', additional_kwargs={}, response_metadata={}, id='run--1f74cdac-86d5-4034-a746-1bf4a4b9460a')}, 'run_id': '1f74cdac-86d5-4034-a746-1bf4a4b9460a', 'name': 'ChatGroq', 'tags': ['seq:step:1'], 'metadata': {'thread_id': '5', 'langgraph_step': 1, 'langgraph_node': 'SuperBot', 'langgraph_triggers': ('branch:to:SuperBot',), 'langgraph_path': ('__pregel_pull', 'SuperBot'), 'langgraph_checkpoint_ns': 'SuperBot:6e7ddf72-c572-f82e-5091-7ff1ca2a5199', 'checkpoint_ns': 'SuperBot:6e7ddf72-c572-f82e-5091-7ff1ca2a5199', 'ls_provider': 'groq', 'ls_model_name': 'llama-3.1-8b-instant', 'ls_model_type': 'chat', 'ls_temperature': 0.7}, 'parent_ids': ['1a266ca4-7455-414d-b36a-94fba3ce03ff', '2d3de2b2-a7c9-46ac-a9e9-154dab2169d1']}\n",
      "{'event': 'on_chat_model_stream', 'data': {'chunk': AIMessageChunk(content=' league', additional_kwargs={}, response_metadata={}, id='run--1f74cdac-86d5-4034-a746-1bf4a4b9460a')}, 'run_id': '1f74cdac-86d5-4034-a746-1bf4a4b9460a', 'name': 'ChatGroq', 'tags': ['seq:step:1'], 'metadata': {'thread_id': '5', 'langgraph_step': 1, 'langgraph_node': 'SuperBot', 'langgraph_triggers': ('branch:to:SuperBot',), 'langgraph_path': ('__pregel_pull', 'SuperBot'), 'langgraph_checkpoint_ns': 'SuperBot:6e7ddf72-c572-f82e-5091-7ff1ca2a5199', 'checkpoint_ns': 'SuperBot:6e7ddf72-c572-f82e-5091-7ff1ca2a5199', 'ls_provider': 'groq', 'ls_model_name': 'llama-3.1-8b-instant', 'ls_model_type': 'chat', 'ls_temperature': 0.7}, 'parent_ids': ['1a266ca4-7455-414d-b36a-94fba3ce03ff', '2d3de2b2-a7c9-46ac-a9e9-154dab2169d1']}\n",
      "{'event': 'on_chat_model_stream', 'data': {'chunk': AIMessageChunk(content=' do', additional_kwargs={}, response_metadata={}, id='run--1f74cdac-86d5-4034-a746-1bf4a4b9460a')}, 'run_id': '1f74cdac-86d5-4034-a746-1bf4a4b9460a', 'name': 'ChatGroq', 'tags': ['seq:step:1'], 'metadata': {'thread_id': '5', 'langgraph_step': 1, 'langgraph_node': 'SuperBot', 'langgraph_triggers': ('branch:to:SuperBot',), 'langgraph_path': ('__pregel_pull', 'SuperBot'), 'langgraph_checkpoint_ns': 'SuperBot:6e7ddf72-c572-f82e-5091-7ff1ca2a5199', 'checkpoint_ns': 'SuperBot:6e7ddf72-c572-f82e-5091-7ff1ca2a5199', 'ls_provider': 'groq', 'ls_model_name': 'llama-3.1-8b-instant', 'ls_model_type': 'chat', 'ls_temperature': 0.7}, 'parent_ids': ['1a266ca4-7455-414d-b36a-94fba3ce03ff', '2d3de2b2-a7c9-46ac-a9e9-154dab2169d1']}\n",
      "{'event': 'on_chat_model_stream', 'data': {'chunk': AIMessageChunk(content=' you', additional_kwargs={}, response_metadata={}, id='run--1f74cdac-86d5-4034-a746-1bf4a4b9460a')}, 'run_id': '1f74cdac-86d5-4034-a746-1bf4a4b9460a', 'name': 'ChatGroq', 'tags': ['seq:step:1'], 'metadata': {'thread_id': '5', 'langgraph_step': 1, 'langgraph_node': 'SuperBot', 'langgraph_triggers': ('branch:to:SuperBot',), 'langgraph_path': ('__pregel_pull', 'SuperBot'), 'langgraph_checkpoint_ns': 'SuperBot:6e7ddf72-c572-f82e-5091-7ff1ca2a5199', 'checkpoint_ns': 'SuperBot:6e7ddf72-c572-f82e-5091-7ff1ca2a5199', 'ls_provider': 'groq', 'ls_model_name': 'llama-3.1-8b-instant', 'ls_model_type': 'chat', 'ls_temperature': 0.7}, 'parent_ids': ['1a266ca4-7455-414d-b36a-94fba3ce03ff', '2d3de2b2-a7c9-46ac-a9e9-154dab2169d1']}\n",
      "{'event': 'on_chat_model_stream', 'data': {'chunk': AIMessageChunk(content=' support', additional_kwargs={}, response_metadata={}, id='run--1f74cdac-86d5-4034-a746-1bf4a4b9460a')}, 'run_id': '1f74cdac-86d5-4034-a746-1bf4a4b9460a', 'name': 'ChatGroq', 'tags': ['seq:step:1'], 'metadata': {'thread_id': '5', 'langgraph_step': 1, 'langgraph_node': 'SuperBot', 'langgraph_triggers': ('branch:to:SuperBot',), 'langgraph_path': ('__pregel_pull', 'SuperBot'), 'langgraph_checkpoint_ns': 'SuperBot:6e7ddf72-c572-f82e-5091-7ff1ca2a5199', 'checkpoint_ns': 'SuperBot:6e7ddf72-c572-f82e-5091-7ff1ca2a5199', 'ls_provider': 'groq', 'ls_model_name': 'llama-3.1-8b-instant', 'ls_model_type': 'chat', 'ls_temperature': 0.7}, 'parent_ids': ['1a266ca4-7455-414d-b36a-94fba3ce03ff', '2d3de2b2-a7c9-46ac-a9e9-154dab2169d1']}\n",
      "{'event': 'on_chat_model_stream', 'data': {'chunk': AIMessageChunk(content='?', additional_kwargs={}, response_metadata={}, id='run--1f74cdac-86d5-4034-a746-1bf4a4b9460a')}, 'run_id': '1f74cdac-86d5-4034-a746-1bf4a4b9460a', 'name': 'ChatGroq', 'tags': ['seq:step:1'], 'metadata': {'thread_id': '5', 'langgraph_step': 1, 'langgraph_node': 'SuperBot', 'langgraph_triggers': ('branch:to:SuperBot',), 'langgraph_path': ('__pregel_pull', 'SuperBot'), 'langgraph_checkpoint_ns': 'SuperBot:6e7ddf72-c572-f82e-5091-7ff1ca2a5199', 'checkpoint_ns': 'SuperBot:6e7ddf72-c572-f82e-5091-7ff1ca2a5199', 'ls_provider': 'groq', 'ls_model_name': 'llama-3.1-8b-instant', 'ls_model_type': 'chat', 'ls_temperature': 0.7}, 'parent_ids': ['1a266ca4-7455-414d-b36a-94fba3ce03ff', '2d3de2b2-a7c9-46ac-a9e9-154dab2169d1']}\n",
      "{'event': 'on_chat_model_stream', 'data': {'chunk': AIMessageChunk(content=' Are', additional_kwargs={}, response_metadata={}, id='run--1f74cdac-86d5-4034-a746-1bf4a4b9460a')}, 'run_id': '1f74cdac-86d5-4034-a746-1bf4a4b9460a', 'name': 'ChatGroq', 'tags': ['seq:step:1'], 'metadata': {'thread_id': '5', 'langgraph_step': 1, 'langgraph_node': 'SuperBot', 'langgraph_triggers': ('branch:to:SuperBot',), 'langgraph_path': ('__pregel_pull', 'SuperBot'), 'langgraph_checkpoint_ns': 'SuperBot:6e7ddf72-c572-f82e-5091-7ff1ca2a5199', 'checkpoint_ns': 'SuperBot:6e7ddf72-c572-f82e-5091-7ff1ca2a5199', 'ls_provider': 'groq', 'ls_model_name': 'llama-3.1-8b-instant', 'ls_model_type': 'chat', 'ls_temperature': 0.7}, 'parent_ids': ['1a266ca4-7455-414d-b36a-94fba3ce03ff', '2d3de2b2-a7c9-46ac-a9e9-154dab2169d1']}\n",
      "{'event': 'on_chat_model_stream', 'data': {'chunk': AIMessageChunk(content=' you', additional_kwargs={}, response_metadata={}, id='run--1f74cdac-86d5-4034-a746-1bf4a4b9460a')}, 'run_id': '1f74cdac-86d5-4034-a746-1bf4a4b9460a', 'name': 'ChatGroq', 'tags': ['seq:step:1'], 'metadata': {'thread_id': '5', 'langgraph_step': 1, 'langgraph_node': 'SuperBot', 'langgraph_triggers': ('branch:to:SuperBot',), 'langgraph_path': ('__pregel_pull', 'SuperBot'), 'langgraph_checkpoint_ns': 'SuperBot:6e7ddf72-c572-f82e-5091-7ff1ca2a5199', 'checkpoint_ns': 'SuperBot:6e7ddf72-c572-f82e-5091-7ff1ca2a5199', 'ls_provider': 'groq', 'ls_model_name': 'llama-3.1-8b-instant', 'ls_model_type': 'chat', 'ls_temperature': 0.7}, 'parent_ids': ['1a266ca4-7455-414d-b36a-94fba3ce03ff', '2d3de2b2-a7c9-46ac-a9e9-154dab2169d1']}\n",
      "{'event': 'on_chat_model_stream', 'data': {'chunk': AIMessageChunk(content=' more', additional_kwargs={}, response_metadata={}, id='run--1f74cdac-86d5-4034-a746-1bf4a4b9460a')}, 'run_id': '1f74cdac-86d5-4034-a746-1bf4a4b9460a', 'name': 'ChatGroq', 'tags': ['seq:step:1'], 'metadata': {'thread_id': '5', 'langgraph_step': 1, 'langgraph_node': 'SuperBot', 'langgraph_triggers': ('branch:to:SuperBot',), 'langgraph_path': ('__pregel_pull', 'SuperBot'), 'langgraph_checkpoint_ns': 'SuperBot:6e7ddf72-c572-f82e-5091-7ff1ca2a5199', 'checkpoint_ns': 'SuperBot:6e7ddf72-c572-f82e-5091-7ff1ca2a5199', 'ls_provider': 'groq', 'ls_model_name': 'llama-3.1-8b-instant', 'ls_model_type': 'chat', 'ls_temperature': 0.7}, 'parent_ids': ['1a266ca4-7455-414d-b36a-94fba3ce03ff', '2d3de2b2-a7c9-46ac-a9e9-154dab2169d1']}\n",
      "{'event': 'on_chat_model_stream', 'data': {'chunk': AIMessageChunk(content=' into', additional_kwargs={}, response_metadata={}, id='run--1f74cdac-86d5-4034-a746-1bf4a4b9460a')}, 'run_id': '1f74cdac-86d5-4034-a746-1bf4a4b9460a', 'name': 'ChatGroq', 'tags': ['seq:step:1'], 'metadata': {'thread_id': '5', 'langgraph_step': 1, 'langgraph_node': 'SuperBot', 'langgraph_triggers': ('branch:to:SuperBot',), 'langgraph_path': ('__pregel_pull', 'SuperBot'), 'langgraph_checkpoint_ns': 'SuperBot:6e7ddf72-c572-f82e-5091-7ff1ca2a5199', 'checkpoint_ns': 'SuperBot:6e7ddf72-c572-f82e-5091-7ff1ca2a5199', 'ls_provider': 'groq', 'ls_model_name': 'llama-3.1-8b-instant', 'ls_model_type': 'chat', 'ls_temperature': 0.7}, 'parent_ids': ['1a266ca4-7455-414d-b36a-94fba3ce03ff', '2d3de2b2-a7c9-46ac-a9e9-154dab2169d1']}\n",
      "{'event': 'on_chat_model_stream', 'data': {'chunk': AIMessageChunk(content=' European', additional_kwargs={}, response_metadata={}, id='run--1f74cdac-86d5-4034-a746-1bf4a4b9460a')}, 'run_id': '1f74cdac-86d5-4034-a746-1bf4a4b9460a', 'name': 'ChatGroq', 'tags': ['seq:step:1'], 'metadata': {'thread_id': '5', 'langgraph_step': 1, 'langgraph_node': 'SuperBot', 'langgraph_triggers': ('branch:to:SuperBot',), 'langgraph_path': ('__pregel_pull', 'SuperBot'), 'langgraph_checkpoint_ns': 'SuperBot:6e7ddf72-c572-f82e-5091-7ff1ca2a5199', 'checkpoint_ns': 'SuperBot:6e7ddf72-c572-f82e-5091-7ff1ca2a5199', 'ls_provider': 'groq', 'ls_model_name': 'llama-3.1-8b-instant', 'ls_model_type': 'chat', 'ls_temperature': 0.7}, 'parent_ids': ['1a266ca4-7455-414d-b36a-94fba3ce03ff', '2d3de2b2-a7c9-46ac-a9e9-154dab2169d1']}\n",
      "{'event': 'on_chat_model_stream', 'data': {'chunk': AIMessageChunk(content=' leagues', additional_kwargs={}, response_metadata={}, id='run--1f74cdac-86d5-4034-a746-1bf4a4b9460a')}, 'run_id': '1f74cdac-86d5-4034-a746-1bf4a4b9460a', 'name': 'ChatGroq', 'tags': ['seq:step:1'], 'metadata': {'thread_id': '5', 'langgraph_step': 1, 'langgraph_node': 'SuperBot', 'langgraph_triggers': ('branch:to:SuperBot',), 'langgraph_path': ('__pregel_pull', 'SuperBot'), 'langgraph_checkpoint_ns': 'SuperBot:6e7ddf72-c572-f82e-5091-7ff1ca2a5199', 'checkpoint_ns': 'SuperBot:6e7ddf72-c572-f82e-5091-7ff1ca2a5199', 'ls_provider': 'groq', 'ls_model_name': 'llama-3.1-8b-instant', 'ls_model_type': 'chat', 'ls_temperature': 0.7}, 'parent_ids': ['1a266ca4-7455-414d-b36a-94fba3ce03ff', '2d3de2b2-a7c9-46ac-a9e9-154dab2169d1']}\n",
      "{'event': 'on_chat_model_stream', 'data': {'chunk': AIMessageChunk(content=' like', additional_kwargs={}, response_metadata={}, id='run--1f74cdac-86d5-4034-a746-1bf4a4b9460a')}, 'run_id': '1f74cdac-86d5-4034-a746-1bf4a4b9460a', 'name': 'ChatGroq', 'tags': ['seq:step:1'], 'metadata': {'thread_id': '5', 'langgraph_step': 1, 'langgraph_node': 'SuperBot', 'langgraph_triggers': ('branch:to:SuperBot',), 'langgraph_path': ('__pregel_pull', 'SuperBot'), 'langgraph_checkpoint_ns': 'SuperBot:6e7ddf72-c572-f82e-5091-7ff1ca2a5199', 'checkpoint_ns': 'SuperBot:6e7ddf72-c572-f82e-5091-7ff1ca2a5199', 'ls_provider': 'groq', 'ls_model_name': 'llama-3.1-8b-instant', 'ls_model_type': 'chat', 'ls_temperature': 0.7}, 'parent_ids': ['1a266ca4-7455-414d-b36a-94fba3ce03ff', '2d3de2b2-a7c9-46ac-a9e9-154dab2169d1']}\n",
      "{'event': 'on_chat_model_stream', 'data': {'chunk': AIMessageChunk(content=' the', additional_kwargs={}, response_metadata={}, id='run--1f74cdac-86d5-4034-a746-1bf4a4b9460a')}, 'run_id': '1f74cdac-86d5-4034-a746-1bf4a4b9460a', 'name': 'ChatGroq', 'tags': ['seq:step:1'], 'metadata': {'thread_id': '5', 'langgraph_step': 1, 'langgraph_node': 'SuperBot', 'langgraph_triggers': ('branch:to:SuperBot',), 'langgraph_path': ('__pregel_pull', 'SuperBot'), 'langgraph_checkpoint_ns': 'SuperBot:6e7ddf72-c572-f82e-5091-7ff1ca2a5199', 'checkpoint_ns': 'SuperBot:6e7ddf72-c572-f82e-5091-7ff1ca2a5199', 'ls_provider': 'groq', 'ls_model_name': 'llama-3.1-8b-instant', 'ls_model_type': 'chat', 'ls_temperature': 0.7}, 'parent_ids': ['1a266ca4-7455-414d-b36a-94fba3ce03ff', '2d3de2b2-a7c9-46ac-a9e9-154dab2169d1']}\n",
      "{'event': 'on_chat_model_stream', 'data': {'chunk': AIMessageChunk(content=' English', additional_kwargs={}, response_metadata={}, id='run--1f74cdac-86d5-4034-a746-1bf4a4b9460a')}, 'run_id': '1f74cdac-86d5-4034-a746-1bf4a4b9460a', 'name': 'ChatGroq', 'tags': ['seq:step:1'], 'metadata': {'thread_id': '5', 'langgraph_step': 1, 'langgraph_node': 'SuperBot', 'langgraph_triggers': ('branch:to:SuperBot',), 'langgraph_path': ('__pregel_pull', 'SuperBot'), 'langgraph_checkpoint_ns': 'SuperBot:6e7ddf72-c572-f82e-5091-7ff1ca2a5199', 'checkpoint_ns': 'SuperBot:6e7ddf72-c572-f82e-5091-7ff1ca2a5199', 'ls_provider': 'groq', 'ls_model_name': 'llama-3.1-8b-instant', 'ls_model_type': 'chat', 'ls_temperature': 0.7}, 'parent_ids': ['1a266ca4-7455-414d-b36a-94fba3ce03ff', '2d3de2b2-a7c9-46ac-a9e9-154dab2169d1']}\n",
      "{'event': 'on_chat_model_stream', 'data': {'chunk': AIMessageChunk(content=' Premier', additional_kwargs={}, response_metadata={}, id='run--1f74cdac-86d5-4034-a746-1bf4a4b9460a')}, 'run_id': '1f74cdac-86d5-4034-a746-1bf4a4b9460a', 'name': 'ChatGroq', 'tags': ['seq:step:1'], 'metadata': {'thread_id': '5', 'langgraph_step': 1, 'langgraph_node': 'SuperBot', 'langgraph_triggers': ('branch:to:SuperBot',), 'langgraph_path': ('__pregel_pull', 'SuperBot'), 'langgraph_checkpoint_ns': 'SuperBot:6e7ddf72-c572-f82e-5091-7ff1ca2a5199', 'checkpoint_ns': 'SuperBot:6e7ddf72-c572-f82e-5091-7ff1ca2a5199', 'ls_provider': 'groq', 'ls_model_name': 'llama-3.1-8b-instant', 'ls_model_type': 'chat', 'ls_temperature': 0.7}, 'parent_ids': ['1a266ca4-7455-414d-b36a-94fba3ce03ff', '2d3de2b2-a7c9-46ac-a9e9-154dab2169d1']}\n",
      "{'event': 'on_chat_model_stream', 'data': {'chunk': AIMessageChunk(content=' League', additional_kwargs={}, response_metadata={}, id='run--1f74cdac-86d5-4034-a746-1bf4a4b9460a')}, 'run_id': '1f74cdac-86d5-4034-a746-1bf4a4b9460a', 'name': 'ChatGroq', 'tags': ['seq:step:1'], 'metadata': {'thread_id': '5', 'langgraph_step': 1, 'langgraph_node': 'SuperBot', 'langgraph_triggers': ('branch:to:SuperBot',), 'langgraph_path': ('__pregel_pull', 'SuperBot'), 'langgraph_checkpoint_ns': 'SuperBot:6e7ddf72-c572-f82e-5091-7ff1ca2a5199', 'checkpoint_ns': 'SuperBot:6e7ddf72-c572-f82e-5091-7ff1ca2a5199', 'ls_provider': 'groq', 'ls_model_name': 'llama-3.1-8b-instant', 'ls_model_type': 'chat', 'ls_temperature': 0.7}, 'parent_ids': ['1a266ca4-7455-414d-b36a-94fba3ce03ff', '2d3de2b2-a7c9-46ac-a9e9-154dab2169d1']}\n",
      "{'event': 'on_chat_model_stream', 'data': {'chunk': AIMessageChunk(content=',', additional_kwargs={}, response_metadata={}, id='run--1f74cdac-86d5-4034-a746-1bf4a4b9460a')}, 'run_id': '1f74cdac-86d5-4034-a746-1bf4a4b9460a', 'name': 'ChatGroq', 'tags': ['seq:step:1'], 'metadata': {'thread_id': '5', 'langgraph_step': 1, 'langgraph_node': 'SuperBot', 'langgraph_triggers': ('branch:to:SuperBot',), 'langgraph_path': ('__pregel_pull', 'SuperBot'), 'langgraph_checkpoint_ns': 'SuperBot:6e7ddf72-c572-f82e-5091-7ff1ca2a5199', 'checkpoint_ns': 'SuperBot:6e7ddf72-c572-f82e-5091-7ff1ca2a5199', 'ls_provider': 'groq', 'ls_model_name': 'llama-3.1-8b-instant', 'ls_model_type': 'chat', 'ls_temperature': 0.7}, 'parent_ids': ['1a266ca4-7455-414d-b36a-94fba3ce03ff', '2d3de2b2-a7c9-46ac-a9e9-154dab2169d1']}\n",
      "{'event': 'on_chat_model_stream', 'data': {'chunk': AIMessageChunk(content=' La', additional_kwargs={}, response_metadata={}, id='run--1f74cdac-86d5-4034-a746-1bf4a4b9460a')}, 'run_id': '1f74cdac-86d5-4034-a746-1bf4a4b9460a', 'name': 'ChatGroq', 'tags': ['seq:step:1'], 'metadata': {'thread_id': '5', 'langgraph_step': 1, 'langgraph_node': 'SuperBot', 'langgraph_triggers': ('branch:to:SuperBot',), 'langgraph_path': ('__pregel_pull', 'SuperBot'), 'langgraph_checkpoint_ns': 'SuperBot:6e7ddf72-c572-f82e-5091-7ff1ca2a5199', 'checkpoint_ns': 'SuperBot:6e7ddf72-c572-f82e-5091-7ff1ca2a5199', 'ls_provider': 'groq', 'ls_model_name': 'llama-3.1-8b-instant', 'ls_model_type': 'chat', 'ls_temperature': 0.7}, 'parent_ids': ['1a266ca4-7455-414d-b36a-94fba3ce03ff', '2d3de2b2-a7c9-46ac-a9e9-154dab2169d1']}\n",
      "{'event': 'on_chat_model_stream', 'data': {'chunk': AIMessageChunk(content=' Liga', additional_kwargs={}, response_metadata={}, id='run--1f74cdac-86d5-4034-a746-1bf4a4b9460a')}, 'run_id': '1f74cdac-86d5-4034-a746-1bf4a4b9460a', 'name': 'ChatGroq', 'tags': ['seq:step:1'], 'metadata': {'thread_id': '5', 'langgraph_step': 1, 'langgraph_node': 'SuperBot', 'langgraph_triggers': ('branch:to:SuperBot',), 'langgraph_path': ('__pregel_pull', 'SuperBot'), 'langgraph_checkpoint_ns': 'SuperBot:6e7ddf72-c572-f82e-5091-7ff1ca2a5199', 'checkpoint_ns': 'SuperBot:6e7ddf72-c572-f82e-5091-7ff1ca2a5199', 'ls_provider': 'groq', 'ls_model_name': 'llama-3.1-8b-instant', 'ls_model_type': 'chat', 'ls_temperature': 0.7}, 'parent_ids': ['1a266ca4-7455-414d-b36a-94fba3ce03ff', '2d3de2b2-a7c9-46ac-a9e9-154dab2169d1']}\n",
      "{'event': 'on_chat_model_stream', 'data': {'chunk': AIMessageChunk(content=',', additional_kwargs={}, response_metadata={}, id='run--1f74cdac-86d5-4034-a746-1bf4a4b9460a')}, 'run_id': '1f74cdac-86d5-4034-a746-1bf4a4b9460a', 'name': 'ChatGroq', 'tags': ['seq:step:1'], 'metadata': {'thread_id': '5', 'langgraph_step': 1, 'langgraph_node': 'SuperBot', 'langgraph_triggers': ('branch:to:SuperBot',), 'langgraph_path': ('__pregel_pull', 'SuperBot'), 'langgraph_checkpoint_ns': 'SuperBot:6e7ddf72-c572-f82e-5091-7ff1ca2a5199', 'checkpoint_ns': 'SuperBot:6e7ddf72-c572-f82e-5091-7ff1ca2a5199', 'ls_provider': 'groq', 'ls_model_name': 'llama-3.1-8b-instant', 'ls_model_type': 'chat', 'ls_temperature': 0.7}, 'parent_ids': ['1a266ca4-7455-414d-b36a-94fba3ce03ff', '2d3de2b2-a7c9-46ac-a9e9-154dab2169d1']}\n",
      "{'event': 'on_chat_model_stream', 'data': {'chunk': AIMessageChunk(content=' or', additional_kwargs={}, response_metadata={}, id='run--1f74cdac-86d5-4034-a746-1bf4a4b9460a')}, 'run_id': '1f74cdac-86d5-4034-a746-1bf4a4b9460a', 'name': 'ChatGroq', 'tags': ['seq:step:1'], 'metadata': {'thread_id': '5', 'langgraph_step': 1, 'langgraph_node': 'SuperBot', 'langgraph_triggers': ('branch:to:SuperBot',), 'langgraph_path': ('__pregel_pull', 'SuperBot'), 'langgraph_checkpoint_ns': 'SuperBot:6e7ddf72-c572-f82e-5091-7ff1ca2a5199', 'checkpoint_ns': 'SuperBot:6e7ddf72-c572-f82e-5091-7ff1ca2a5199', 'ls_provider': 'groq', 'ls_model_name': 'llama-3.1-8b-instant', 'ls_model_type': 'chat', 'ls_temperature': 0.7}, 'parent_ids': ['1a266ca4-7455-414d-b36a-94fba3ce03ff', '2d3de2b2-a7c9-46ac-a9e9-154dab2169d1']}\n",
      "{'event': 'on_chat_model_stream', 'data': {'chunk': AIMessageChunk(content=' do', additional_kwargs={}, response_metadata={}, id='run--1f74cdac-86d5-4034-a746-1bf4a4b9460a')}, 'run_id': '1f74cdac-86d5-4034-a746-1bf4a4b9460a', 'name': 'ChatGroq', 'tags': ['seq:step:1'], 'metadata': {'thread_id': '5', 'langgraph_step': 1, 'langgraph_node': 'SuperBot', 'langgraph_triggers': ('branch:to:SuperBot',), 'langgraph_path': ('__pregel_pull', 'SuperBot'), 'langgraph_checkpoint_ns': 'SuperBot:6e7ddf72-c572-f82e-5091-7ff1ca2a5199', 'checkpoint_ns': 'SuperBot:6e7ddf72-c572-f82e-5091-7ff1ca2a5199', 'ls_provider': 'groq', 'ls_model_name': 'llama-3.1-8b-instant', 'ls_model_type': 'chat', 'ls_temperature': 0.7}, 'parent_ids': ['1a266ca4-7455-414d-b36a-94fba3ce03ff', '2d3de2b2-a7c9-46ac-a9e9-154dab2169d1']}\n",
      "{'event': 'on_chat_model_stream', 'data': {'chunk': AIMessageChunk(content=' you', additional_kwargs={}, response_metadata={}, id='run--1f74cdac-86d5-4034-a746-1bf4a4b9460a')}, 'run_id': '1f74cdac-86d5-4034-a746-1bf4a4b9460a', 'name': 'ChatGroq', 'tags': ['seq:step:1'], 'metadata': {'thread_id': '5', 'langgraph_step': 1, 'langgraph_node': 'SuperBot', 'langgraph_triggers': ('branch:to:SuperBot',), 'langgraph_path': ('__pregel_pull', 'SuperBot'), 'langgraph_checkpoint_ns': 'SuperBot:6e7ddf72-c572-f82e-5091-7ff1ca2a5199', 'checkpoint_ns': 'SuperBot:6e7ddf72-c572-f82e-5091-7ff1ca2a5199', 'ls_provider': 'groq', 'ls_model_name': 'llama-3.1-8b-instant', 'ls_model_type': 'chat', 'ls_temperature': 0.7}, 'parent_ids': ['1a266ca4-7455-414d-b36a-94fba3ce03ff', '2d3de2b2-a7c9-46ac-a9e9-154dab2169d1']}\n",
      "{'event': 'on_chat_model_stream', 'data': {'chunk': AIMessageChunk(content=' follow', additional_kwargs={}, response_metadata={}, id='run--1f74cdac-86d5-4034-a746-1bf4a4b9460a')}, 'run_id': '1f74cdac-86d5-4034-a746-1bf4a4b9460a', 'name': 'ChatGroq', 'tags': ['seq:step:1'], 'metadata': {'thread_id': '5', 'langgraph_step': 1, 'langgraph_node': 'SuperBot', 'langgraph_triggers': ('branch:to:SuperBot',), 'langgraph_path': ('__pregel_pull', 'SuperBot'), 'langgraph_checkpoint_ns': 'SuperBot:6e7ddf72-c572-f82e-5091-7ff1ca2a5199', 'checkpoint_ns': 'SuperBot:6e7ddf72-c572-f82e-5091-7ff1ca2a5199', 'ls_provider': 'groq', 'ls_model_name': 'llama-3.1-8b-instant', 'ls_model_type': 'chat', 'ls_temperature': 0.7}, 'parent_ids': ['1a266ca4-7455-414d-b36a-94fba3ce03ff', '2d3de2b2-a7c9-46ac-a9e9-154dab2169d1']}\n",
      "{'event': 'on_chat_model_stream', 'data': {'chunk': AIMessageChunk(content=' the', additional_kwargs={}, response_metadata={}, id='run--1f74cdac-86d5-4034-a746-1bf4a4b9460a')}, 'run_id': '1f74cdac-86d5-4034-a746-1bf4a4b9460a', 'name': 'ChatGroq', 'tags': ['seq:step:1'], 'metadata': {'thread_id': '5', 'langgraph_step': 1, 'langgraph_node': 'SuperBot', 'langgraph_triggers': ('branch:to:SuperBot',), 'langgraph_path': ('__pregel_pull', 'SuperBot'), 'langgraph_checkpoint_ns': 'SuperBot:6e7ddf72-c572-f82e-5091-7ff1ca2a5199', 'checkpoint_ns': 'SuperBot:6e7ddf72-c572-f82e-5091-7ff1ca2a5199', 'ls_provider': 'groq', 'ls_model_name': 'llama-3.1-8b-instant', 'ls_model_type': 'chat', 'ls_temperature': 0.7}, 'parent_ids': ['1a266ca4-7455-414d-b36a-94fba3ce03ff', '2d3de2b2-a7c9-46ac-a9e9-154dab2169d1']}\n",
      "{'event': 'on_chat_model_stream', 'data': {'chunk': AIMessageChunk(content=' Indian', additional_kwargs={}, response_metadata={}, id='run--1f74cdac-86d5-4034-a746-1bf4a4b9460a')}, 'run_id': '1f74cdac-86d5-4034-a746-1bf4a4b9460a', 'name': 'ChatGroq', 'tags': ['seq:step:1'], 'metadata': {'thread_id': '5', 'langgraph_step': 1, 'langgraph_node': 'SuperBot', 'langgraph_triggers': ('branch:to:SuperBot',), 'langgraph_path': ('__pregel_pull', 'SuperBot'), 'langgraph_checkpoint_ns': 'SuperBot:6e7ddf72-c572-f82e-5091-7ff1ca2a5199', 'checkpoint_ns': 'SuperBot:6e7ddf72-c572-f82e-5091-7ff1ca2a5199', 'ls_provider': 'groq', 'ls_model_name': 'llama-3.1-8b-instant', 'ls_model_type': 'chat', 'ls_temperature': 0.7}, 'parent_ids': ['1a266ca4-7455-414d-b36a-94fba3ce03ff', '2d3de2b2-a7c9-46ac-a9e9-154dab2169d1']}\n",
      "{'event': 'on_chat_model_stream', 'data': {'chunk': AIMessageChunk(content=' Super', additional_kwargs={}, response_metadata={}, id='run--1f74cdac-86d5-4034-a746-1bf4a4b9460a')}, 'run_id': '1f74cdac-86d5-4034-a746-1bf4a4b9460a', 'name': 'ChatGroq', 'tags': ['seq:step:1'], 'metadata': {'thread_id': '5', 'langgraph_step': 1, 'langgraph_node': 'SuperBot', 'langgraph_triggers': ('branch:to:SuperBot',), 'langgraph_path': ('__pregel_pull', 'SuperBot'), 'langgraph_checkpoint_ns': 'SuperBot:6e7ddf72-c572-f82e-5091-7ff1ca2a5199', 'checkpoint_ns': 'SuperBot:6e7ddf72-c572-f82e-5091-7ff1ca2a5199', 'ls_provider': 'groq', 'ls_model_name': 'llama-3.1-8b-instant', 'ls_model_type': 'chat', 'ls_temperature': 0.7}, 'parent_ids': ['1a266ca4-7455-414d-b36a-94fba3ce03ff', '2d3de2b2-a7c9-46ac-a9e9-154dab2169d1']}\n",
      "{'event': 'on_chat_model_stream', 'data': {'chunk': AIMessageChunk(content=' League', additional_kwargs={}, response_metadata={}, id='run--1f74cdac-86d5-4034-a746-1bf4a4b9460a')}, 'run_id': '1f74cdac-86d5-4034-a746-1bf4a4b9460a', 'name': 'ChatGroq', 'tags': ['seq:step:1'], 'metadata': {'thread_id': '5', 'langgraph_step': 1, 'langgraph_node': 'SuperBot', 'langgraph_triggers': ('branch:to:SuperBot',), 'langgraph_path': ('__pregel_pull', 'SuperBot'), 'langgraph_checkpoint_ns': 'SuperBot:6e7ddf72-c572-f82e-5091-7ff1ca2a5199', 'checkpoint_ns': 'SuperBot:6e7ddf72-c572-f82e-5091-7ff1ca2a5199', 'ls_provider': 'groq', 'ls_model_name': 'llama-3.1-8b-instant', 'ls_model_type': 'chat', 'ls_temperature': 0.7}, 'parent_ids': ['1a266ca4-7455-414d-b36a-94fba3ce03ff', '2d3de2b2-a7c9-46ac-a9e9-154dab2169d1']}\n",
      "{'event': 'on_chat_model_stream', 'data': {'chunk': AIMessageChunk(content='?', additional_kwargs={}, response_metadata={}, id='run--1f74cdac-86d5-4034-a746-1bf4a4b9460a')}, 'run_id': '1f74cdac-86d5-4034-a746-1bf4a4b9460a', 'name': 'ChatGroq', 'tags': ['seq:step:1'], 'metadata': {'thread_id': '5', 'langgraph_step': 1, 'langgraph_node': 'SuperBot', 'langgraph_triggers': ('branch:to:SuperBot',), 'langgraph_path': ('__pregel_pull', 'SuperBot'), 'langgraph_checkpoint_ns': 'SuperBot:6e7ddf72-c572-f82e-5091-7ff1ca2a5199', 'checkpoint_ns': 'SuperBot:6e7ddf72-c572-f82e-5091-7ff1ca2a5199', 'ls_provider': 'groq', 'ls_model_name': 'llama-3.1-8b-instant', 'ls_model_type': 'chat', 'ls_temperature': 0.7}, 'parent_ids': ['1a266ca4-7455-414d-b36a-94fba3ce03ff', '2d3de2b2-a7c9-46ac-a9e9-154dab2169d1']}\n",
      "{'event': 'on_chat_model_stream', 'data': {'chunk': AIMessageChunk(content='', additional_kwargs={}, response_metadata={'finish_reason': 'stop', 'model_name': 'llama-3.1-8b-instant', 'system_fingerprint': 'fp_3ddc9808b3', 'service_tier': 'on_demand'}, id='run--1f74cdac-86d5-4034-a746-1bf4a4b9460a', usage_metadata={'input_tokens': 46, 'output_tokens': 54, 'total_tokens': 100})}, 'run_id': '1f74cdac-86d5-4034-a746-1bf4a4b9460a', 'name': 'ChatGroq', 'tags': ['seq:step:1'], 'metadata': {'thread_id': '5', 'langgraph_step': 1, 'langgraph_node': 'SuperBot', 'langgraph_triggers': ('branch:to:SuperBot',), 'langgraph_path': ('__pregel_pull', 'SuperBot'), 'langgraph_checkpoint_ns': 'SuperBot:6e7ddf72-c572-f82e-5091-7ff1ca2a5199', 'checkpoint_ns': 'SuperBot:6e7ddf72-c572-f82e-5091-7ff1ca2a5199', 'ls_provider': 'groq', 'ls_model_name': 'llama-3.1-8b-instant', 'ls_model_type': 'chat', 'ls_temperature': 0.7}, 'parent_ids': ['1a266ca4-7455-414d-b36a-94fba3ce03ff', '2d3de2b2-a7c9-46ac-a9e9-154dab2169d1']}\n",
      "{'event': 'on_chat_model_end', 'data': {'output': AIMessage(content=\"Hello Deekshith, nice to meet you. Football is an amazing sport, isn't it? Which team or league do you support? Are you more into European leagues like the English Premier League, La Liga, or do you follow the Indian Super League?\", additional_kwargs={}, response_metadata={'finish_reason': 'stop', 'model_name': 'llama-3.1-8b-instant', 'system_fingerprint': 'fp_3ddc9808b3', 'service_tier': 'on_demand'}, id='run--1f74cdac-86d5-4034-a746-1bf4a4b9460a', usage_metadata={'input_tokens': 46, 'output_tokens': 54, 'total_tokens': 100}), 'input': {'messages': [[HumanMessage(content='my name is Deekshith and I like football', additional_kwargs={}, response_metadata={}, id='18b30a2e-661c-4f5f-87b3-90909e635131')]]}}, 'run_id': '1f74cdac-86d5-4034-a746-1bf4a4b9460a', 'name': 'ChatGroq', 'tags': ['seq:step:1'], 'metadata': {'thread_id': '5', 'langgraph_step': 1, 'langgraph_node': 'SuperBot', 'langgraph_triggers': ('branch:to:SuperBot',), 'langgraph_path': ('__pregel_pull', 'SuperBot'), 'langgraph_checkpoint_ns': 'SuperBot:6e7ddf72-c572-f82e-5091-7ff1ca2a5199', 'checkpoint_ns': 'SuperBot:6e7ddf72-c572-f82e-5091-7ff1ca2a5199', 'ls_provider': 'groq', 'ls_model_name': 'llama-3.1-8b-instant', 'ls_model_type': 'chat', 'ls_temperature': 0.7}, 'parent_ids': ['1a266ca4-7455-414d-b36a-94fba3ce03ff', '2d3de2b2-a7c9-46ac-a9e9-154dab2169d1']}\n",
      "{'event': 'on_chain_stream', 'run_id': '2d3de2b2-a7c9-46ac-a9e9-154dab2169d1', 'name': 'SuperBot', 'tags': ['graph:step:1'], 'metadata': {'thread_id': '5', 'langgraph_step': 1, 'langgraph_node': 'SuperBot', 'langgraph_triggers': ('branch:to:SuperBot',), 'langgraph_path': ('__pregel_pull', 'SuperBot'), 'langgraph_checkpoint_ns': 'SuperBot:6e7ddf72-c572-f82e-5091-7ff1ca2a5199'}, 'data': {'chunk': {'messages': [AIMessage(content=\"Hello Deekshith, nice to meet you. Football is an amazing sport, isn't it? Which team or league do you support? Are you more into European leagues like the English Premier League, La Liga, or do you follow the Indian Super League?\", additional_kwargs={}, response_metadata={'finish_reason': 'stop', 'model_name': 'llama-3.1-8b-instant', 'system_fingerprint': 'fp_3ddc9808b3', 'service_tier': 'on_demand'}, id='run--1f74cdac-86d5-4034-a746-1bf4a4b9460a', usage_metadata={'input_tokens': 46, 'output_tokens': 54, 'total_tokens': 100})]}}, 'parent_ids': ['1a266ca4-7455-414d-b36a-94fba3ce03ff']}\n",
      "{'event': 'on_chain_end', 'data': {'output': {'messages': [AIMessage(content=\"Hello Deekshith, nice to meet you. Football is an amazing sport, isn't it? Which team or league do you support? Are you more into European leagues like the English Premier League, La Liga, or do you follow the Indian Super League?\", additional_kwargs={}, response_metadata={'finish_reason': 'stop', 'model_name': 'llama-3.1-8b-instant', 'system_fingerprint': 'fp_3ddc9808b3', 'service_tier': 'on_demand'}, id='run--1f74cdac-86d5-4034-a746-1bf4a4b9460a', usage_metadata={'input_tokens': 46, 'output_tokens': 54, 'total_tokens': 100})]}, 'input': {'messages': [HumanMessage(content='my name is Deekshith and I like football', additional_kwargs={}, response_metadata={}, id='18b30a2e-661c-4f5f-87b3-90909e635131')]}}, 'run_id': '2d3de2b2-a7c9-46ac-a9e9-154dab2169d1', 'name': 'SuperBot', 'tags': ['graph:step:1'], 'metadata': {'thread_id': '5', 'langgraph_step': 1, 'langgraph_node': 'SuperBot', 'langgraph_triggers': ('branch:to:SuperBot',), 'langgraph_path': ('__pregel_pull', 'SuperBot'), 'langgraph_checkpoint_ns': 'SuperBot:6e7ddf72-c572-f82e-5091-7ff1ca2a5199'}, 'parent_ids': ['1a266ca4-7455-414d-b36a-94fba3ce03ff']}\n",
      "{'event': 'on_chain_stream', 'run_id': '1a266ca4-7455-414d-b36a-94fba3ce03ff', 'name': 'LangGraph', 'tags': [], 'metadata': {'thread_id': '5'}, 'data': {'chunk': {'messages': [HumanMessage(content='my name is Deekshith and I like football', additional_kwargs={}, response_metadata={}, id='18b30a2e-661c-4f5f-87b3-90909e635131'), AIMessage(content=\"Hello Deekshith, nice to meet you. Football is an amazing sport, isn't it? Which team or league do you support? Are you more into European leagues like the English Premier League, La Liga, or do you follow the Indian Super League?\", additional_kwargs={}, response_metadata={'finish_reason': 'stop', 'model_name': 'llama-3.1-8b-instant', 'system_fingerprint': 'fp_3ddc9808b3', 'service_tier': 'on_demand'}, id='run--1f74cdac-86d5-4034-a746-1bf4a4b9460a', usage_metadata={'input_tokens': 46, 'output_tokens': 54, 'total_tokens': 100})]}}, 'parent_ids': []}\n",
      "{'event': 'on_chain_end', 'data': {'output': {'messages': [HumanMessage(content='my name is Deekshith and I like football', additional_kwargs={}, response_metadata={}, id='18b30a2e-661c-4f5f-87b3-90909e635131'), AIMessage(content=\"Hello Deekshith, nice to meet you. Football is an amazing sport, isn't it? Which team or league do you support? Are you more into European leagues like the English Premier League, La Liga, or do you follow the Indian Super League?\", additional_kwargs={}, response_metadata={'finish_reason': 'stop', 'model_name': 'llama-3.1-8b-instant', 'system_fingerprint': 'fp_3ddc9808b3', 'service_tier': 'on_demand'}, id='run--1f74cdac-86d5-4034-a746-1bf4a4b9460a', usage_metadata={'input_tokens': 46, 'output_tokens': 54, 'total_tokens': 100})]}}, 'run_id': '1a266ca4-7455-414d-b36a-94fba3ce03ff', 'name': 'LangGraph', 'tags': [], 'metadata': {'thread_id': '5'}, 'parent_ids': []}\n"
     ]
    }
   ],
   "source": [
    "#Async event\n",
    "\n",
    "config={\"configurable\":{\"thread_id\":\"5\"}}\n",
    "\n",
    "async for chunk in graph_builder.astream_events({\"messages\":\"my name is Deekshith and I like football\"},config,stream_mode=\"values\"):\n",
    "    print(chunk)"
   ]
  },
  {
   "cell_type": "markdown",
   "id": "dfab68e7",
   "metadata": {},
   "source": [
    "Human in the loop"
   ]
  },
  {
   "cell_type": "code",
   "execution_count": 78,
   "id": "10b4da1f",
   "metadata": {},
   "outputs": [
    {
     "data": {
      "text/plain": [
       "ChatGroq(client=<groq.resources.chat.completions.Completions object at 0x0000012884FC0170>, async_client=<groq.resources.chat.completions.AsyncCompletions object at 0x0000012884FC0A70>, model_name='llama-3.1-8b-instant', model_kwargs={}, groq_api_key=SecretStr('**********'))"
      ]
     },
     "execution_count": 78,
     "metadata": {},
     "output_type": "execute_result"
    }
   ],
   "source": [
    "import os\n",
    "from langchain.chat_models import init_chat_model\n",
    "llm = init_chat_model(\"groq:llama-3.1-8b-instant\")\n",
    "llm"
   ]
  },
  {
   "cell_type": "code",
   "execution_count": 79,
   "id": "7f419276",
   "metadata": {},
   "outputs": [
    {
     "data": {
      "text/plain": [
       "<langgraph.graph.state.StateGraph at 0x12884fc0dd0>"
      ]
     },
     "execution_count": 79,
     "metadata": {},
     "output_type": "execute_result"
    }
   ],
   "source": [
    "from typing import Annotated\n",
    "\n",
    "from langchain_tavily import TavilySearch\n",
    "from langchain_core.tools import tool\n",
    "from typing_extensions import TypedDict\n",
    "\n",
    "\n",
    "from langgraph.graph import StateGraph,START,END\n",
    "from langgraph.prebuilt import ToolNode\n",
    "from langgraph.prebuilt import tools_condition\n",
    "from langgraph.checkpoint.memory import MemorySaver\n",
    "from langgraph.graph.message import add_messages\n",
    "\n",
    "\n",
    "from langgraph.types import Command,interrupt\n",
    "\n",
    "class State(TypedDict):\n",
    "    messages: Annotated[list,add_messages]\n",
    "\n",
    "graph_builder =  StateGraph(State)\n",
    "\n",
    "\n",
    "@tool\n",
    "def human_assistance(query:str) -> str:\n",
    "    \"\"\"Request assistance from a human\"\"\"\n",
    "    human_response = interrupt({\"query\":query})\n",
    "    return human_response[\"date\"]\n",
    "\n",
    "tool = TavilySearch(max_results=2)\n",
    "tools = [tool,human_assistance]\n",
    "llm_with_tool=llm.bind_tools(tools)\n",
    "\n",
    "\n",
    "def chatbot(state:State):\n",
    "    message = llm_with_tool.invoke(state[\"messages\"])\n",
    "    return {\"messages\":[message]}\n",
    "\n",
    "\n",
    "graph_builder.add_node(\"chatbot\",chatbot)\n",
    "tool_node = ToolNode(tools=tools)\n",
    "graph_builder.add_node(\"tools\",tool_node)\n",
    "\n",
    "\n",
    "graph_builder.add_conditional_edges(\n",
    "    \"chatbot\",\n",
    "    tools_condition,\n",
    ")\n",
    "\n",
    "graph_builder.add_edge(\"tools\",\"chatbot\")\n",
    "graph_builder.add_edge(START,\"chatbot\")"
   ]
  },
  {
   "cell_type": "code",
   "execution_count": 80,
   "id": "8290bb6a",
   "metadata": {},
   "outputs": [],
   "source": [
    "graph = graph_builder.compile(checkpointer=memory)"
   ]
  },
  {
   "cell_type": "code",
   "execution_count": 81,
   "id": "14e129d5",
   "metadata": {},
   "outputs": [
    {
     "data": {
      "image/png": "[encoded data removed]",
      "text/plain": [
       "<IPython.core.display.Image object>"
      ]
     },
     "metadata": {},
     "output_type": "display_data"
    }
   ],
   "source": [
    "from IPython.display import Image , display\n",
    "\n",
    "try:\n",
    "    display(Image(graph.get_graph().draw_mermaid_png()))\n",
    "except Exception:\n",
    "    pass"
   ]
  },
  {
   "cell_type": "code",
   "execution_count": 82,
   "id": "d051521e",
   "metadata": {},
   "outputs": [
    {
     "name": "stdout",
     "output_type": "stream",
     "text": [
      "================================\u001b[1m Human Message \u001b[0m=================================\n",
      "\n",
      "I need some expert guidence for building AI Agent.Could you request assistance for me\n",
      "==================================\u001b[1m Ai Message \u001b[0m==================================\n",
      "Tool Calls:\n",
      "  human_assistance (abcpz40m7)\n",
      " Call ID: abcpz40m7\n",
      "  Args:\n",
      "    query: Expert guidance for building AI Agent\n",
      "  human_assistance (v1q38qwka)\n",
      " Call ID: v1q38qwka\n",
      "  Args:\n",
      "    query: Additional guidance on building AI Agent\n",
      "  human_assistance (yd5w1sq37)\n",
      " Call ID: yd5w1sq37\n",
      "  Args:\n",
      "    query: Specific guidance on AI Agent architecture and design\n"
     ]
    }
   ],
   "source": [
    "user_input = \"I need some expert guidence for building AI Agent.Could you request assistance for me\"\n",
    "\n",
    "config={\"configurable\":{\"thread_id\":\"1\"}}\n",
    "\n",
    "events =  graph.stream({\"messages\":user_input},config,stream_mode=\"values\",)\n",
    "\n",
    "for event in events:\n",
    "    if \"messages\" in event:\n",
    "        event[\"messages\"][-1].pretty_print()"
   ]
  },
  {
   "cell_type": "code",
   "execution_count": 83,
   "id": "d00d2601",
   "metadata": {},
   "outputs": [
    {
     "name": "stdout",
     "output_type": "stream",
     "text": [
      "==================================\u001b[1m Ai Message \u001b[0m==================================\n",
      "Tool Calls:\n",
      "  human_assistance (abcpz40m7)\n",
      " Call ID: abcpz40m7\n",
      "  Args:\n",
      "    query: Expert guidance for building AI Agent\n",
      "  human_assistance (v1q38qwka)\n",
      " Call ID: v1q38qwka\n",
      "  Args:\n",
      "    query: Additional guidance on building AI Agent\n",
      "  human_assistance (yd5w1sq37)\n",
      " Call ID: yd5w1sq37\n",
      "  Args:\n",
      "    query: Specific guidance on AI Agent architecture and design\n"
     ]
    }
   ],
   "source": [
    "human_response = (\"We,the experts are here to help! We'd recommend you check out LangGraph\"\n",
    "\" to build your agent\"\n",
    "                  \"Its much more reliable and extensable than simple autonomous agents\")\n",
    "\n",
    "human_command = Command(resume={\"data\": human_response})\n",
    "\n",
    "events =  graph.stream(human_command,config,stream_mode=\"values\")\n",
    "\n",
    "for event in events:\n",
    "    if \"messages\" in event:\n",
    "        event[\"messages\"][-1].pretty_print()"
   ]
  },
  {
   "cell_type": "markdown",
   "id": "5b3ae21b",
   "metadata": {},
   "source": [
    "MCP Implementation\n",
    "MCP (Model Context Protocol) is an open-source standard for connecting AI applications to external systems."
   ]
  },
  {
   "cell_type": "code",
   "execution_count": null,
   "id": "55534741",
   "metadata": {},
   "outputs": [],
   "source": []
  }
 ],
 "metadata": {
  "kernelspec": {
   "display_name": "LangGraphPOC",
   "language": "python",
   "name": "python3"
  },
  "language_info": {
   "codemirror_mode": {
    "name": "ipython",
    "version": 3
   },
   "file_extension": ".py",
   "mimetype": "text/x-python",
   "name": "python",
   "nbconvert_exporter": "python",
   "pygments_lexer": "ipython3",
   "version": "3.13.3"
  }
 },
 "nbformat": 4,
 "nbformat_minor": 5
}
